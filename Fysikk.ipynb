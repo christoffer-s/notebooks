{
 "cells": [
  {
   "cell_type": "markdown",
   "metadata": {},
   "source": [
    "# Fysikk 1\n",
    "---"
   ]
  },
  {
   "cell_type": "markdown",
   "metadata": {},
   "source": [
    "### innhold"
   ]
  },
  {
   "cell_type": "markdown",
   "metadata": {},
   "source": [
    "### Konstant akselerasjon"
   ]
  },
  {
   "cell_type": "code",
   "execution_count": 10,
   "metadata": {},
   "outputs": [
    {
     "name": "stdout",
     "output_type": "stream",
     "text": [
      "Tid = 3.0 sekunder \n",
      "Strekning = 15.0 meter \n",
      "Hastighet = 5 meter per sekund\n"
     ]
    }
   ],
   "source": [
    "# Simulering og beregning av hastighet og akselerasjon\n",
    "\n",
    "v = 5\n",
    "s = 0\n",
    "t = 0\n",
    "dt = 0.1\n",
    "ts = 3\n",
    "\n",
    "while t < ts:\n",
    "    s += v*dt\n",
    "    t += dt\n",
    "print(f'Tid = {round(t, 5)} sekunder \\nStrekning = {s} meter \\nHastighet = {v} meter per sekund')\n"
   ]
  }
 ],
 "metadata": {
  "kernelspec": {
   "display_name": "Python 3.10.11 64-bit (microsoft store)",
   "language": "python",
   "name": "python3"
  },
  "language_info": {
   "codemirror_mode": {
    "name": "ipython",
    "version": 3
   },
   "file_extension": ".py",
   "mimetype": "text/x-python",
   "name": "python",
   "nbconvert_exporter": "python",
   "pygments_lexer": "ipython3",
   "version": "3.10.11"
  },
  "orig_nbformat": 4,
  "vscode": {
   "interpreter": {
    "hash": "915e572a52e4a3d9d38c81c04c936ab4e11d77090e981a9ed292779688a65f5c"
   }
  }
 },
 "nbformat": 4,
 "nbformat_minor": 2
}
