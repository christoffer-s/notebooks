{
 "cells": [
  {
   "cell_type": "markdown",
   "metadata": {},
   "source": [
    "# R2"
   ]
  },
  {
   "cell_type": "markdown",
   "metadata": {},
   "source": [
    "Github repo: [`github.com/christoffer-s/notebooks`](https://github.com/christoffer-s/notebooks) \n",
    "\n",
    "<br><br/>\n",
    "\n",
    "> Det eneste jeg savner er resten \n",
    ">\n",
    "> \\- Carmen"
   ]
  },
  {
   "cell_type": "markdown",
   "metadata": {},
   "source": [
    "----\n",
    "\n",
    "## Innholdsfortegnelse\n",
    "\n",
    "<ol>\n",
    "<li><a href=\"#setup\">Setup</a></li>\n",
    "    <ol>1.1 <a href=\"#obligatorisk-kode\">Obligatorisk kode</a></ol>\n",
    "    <ol>1.2 <a href=\"#eksempel-på-struktur\">Eksempel på struktur</a></ol>\n",
    "\n",
    "<li><a href=\"#trigonometri\">Trigonometri</a></li>\n",
    "    <ol>2.1 <a href=\"#funksjoner\">Funksjoner</a></ol>\n",
    "\n",
    "<li><a href=\"#følger-og-rekker\">Følger og rekker</a></li>\n",
    "    <ol>3.1 <a href=\"#ting-1\">Ting 1</a></ol>\n",
    "\n",
    "<li><a href=\"#derivasjon\">Derivasjon</a></li>\n",
    "    <ol>4.1 <a href=\"#ting-1\">Ting 1</a></ol>\n",
    "\n",
    "<li><a href=\"#integrasjon\">Integrasjon</a></li>\n",
    "    <ol>5.1 <a href=\"#ting-1\">Ting 1</a></ol>\n",
    "\n",
    "<li><a href=\"#vektorer\">Vektorer</a></li>\n",
    "    <ol>6.1 <a href=\"#ting-1\">Ting 1</a></ol>\n",
    "</ol>\n",
    "\n"
   ]
  },
  {
   "cell_type": "markdown",
   "metadata": {},
   "source": [
    "----\n",
    "## Setup\n",
    "### Obligatorisk kode"
   ]
  },
  {
   "cell_type": "code",
   "execution_count": 5,
   "metadata": {},
   "outputs": [],
   "source": [
    "from matplotlib import rcParams, pyplot as plt              # grafing \n",
    "from IPython.display import display, Latex                  # printe matte\n",
    "import numpy as np                                          # numpy\n",
    "\n",
    "rcParams['figure.dpi'] = 300                                # setter oppløsning for graf\n",
    "\n",
    "def graph(x, y: dict, x_lab =\"x\", y_lab =\"y\"):              # kode for å plotte graf\n",
    "    ''' input:  x values, y values: dict, x label = \"x\", y label = \"y\"\n",
    " output: matplotlib plot graph'''\n",
    "  \n",
    "    for name in y:\n",
    "        function = y[name]\n",
    "        plt.plot(x, function, label = name)\n",
    "\n",
    "    plt.axhline(color =\"k\")\n",
    "    plt.axvline(color =\"k\")\n",
    "    plt.xlim(x[0], x[-1])\n",
    "    plt.xlabel(x_lab)\n",
    "    plt.ylabel(y_lab)\n",
    "    plt.legend()\n",
    "    plt.grid()\n",
    "    plt.show()\n",
    "\n",
    "    "
   ]
  },
  {
   "cell_type": "markdown",
   "metadata": {},
   "source": [
    "### Eksempel på struktur"
   ]
  },
  {
   "cell_type": "markdown",
   "metadata": {},
   "source": [
    "$f(x) = x^2 + 5x - 1  $"
   ]
  },
  {
   "cell_type": "code",
   "execution_count": null,
   "metadata": {},
   "outputs": [],
   "source": [
    "display(Latex(f\"$f(x) = x^2 + 5x - 1$\"))       # printer funksjonsuttrykket i latex\n",
    "print(\"\")\n",
    "\n",
    "def f(x):                                      # funksjonen, alle funksjoner bør være dok.\n",
    "    ''' input:  x\n",
    " output: x^3 + 5x - 1'''               \n",
    "    return x**2 + 5*x - 1                      # funksjonsutrykket for python\n",
    "\n",
    "x = np.linspace(0, 100)\n",
    "y = {\"f(x)\": f(x)}\n",
    "                                   \n",
    "graph(x, y)                                    # tegner graf\n",
    "\n",
    "\n"
   ]
  },
  {
   "cell_type": "markdown",
   "metadata": {},
   "source": [
    "----\n",
    "\n",
    "## Trigonometri\n",
    "\n",
    "### Funksjoner"
   ]
  },
  {
   "cell_type": "markdown",
   "metadata": {},
   "source": [
    "$f(x) = sin(x) $\n",
    "\n",
    "$g(x) = cos(x) $"
   ]
  },
  {
   "cell_type": "code",
   "execution_count": null,
   "metadata": {},
   "outputs": [],
   "source": [
    "x = np.linspace(0, 6)\n",
    "\n",
    "f = np.sin(x)\n",
    "g = np.cos(x)\n",
    "h = np.sin(x+np.pi)\n",
    "\n",
    "functions = {\"f(x) = sin(x)\": f,\n",
    "             \"g(x) = cos(x)\": g}\n",
    "\n",
    "graph(x, functions)\n"
   ]
  }
 ],
 "metadata": {
  "kernelspec": {
   "display_name": "Python 3.8.8 ('base')",
   "language": "python",
   "name": "python3"
  },
  "language_info": {
   "codemirror_mode": {
    "name": "ipython",
    "version": 3
   },
   "file_extension": ".py",
   "mimetype": "text/x-python",
   "name": "python",
   "nbconvert_exporter": "python",
   "pygments_lexer": "ipython3",
   "version": "3.8.8"
  },
  "orig_nbformat": 4,
  "vscode": {
   "interpreter": {
    "hash": "ad2bdc8ecc057115af97d19610ffacc2b4e99fae6737bb82f5d7fb13d2f2c186"
   }
  }
 },
 "nbformat": 4,
 "nbformat_minor": 2
}
