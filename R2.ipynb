{
 "cells": [
  {
   "cell_type": "markdown",
   "metadata": {},
   "source": [
    "# R2"
   ]
  },
  {
   "cell_type": "markdown",
   "metadata": {},
   "source": [
    "Github repo: [`github.com/christoffer-s/notebooks`](https://github.com/christoffer-s/notebooks) \n",
    "\n",
    "<br><br/>\n",
    "\n",
    "> Det eneste jeg savner er resten \n",
    ">\n",
    "> \\- Carmen"
   ]
  },
  {
   "cell_type": "markdown",
   "metadata": {},
   "source": [
    "----\n",
    "\n",
    "## Innholdsfortegnelse\n",
    "\n",
    "<ol>\n",
    "<li><a href=\"#setup\">Setup</a></li>\n",
    "    <ol>1.1 <a href=\"#obligatorisk-kode\">Obligatorisk kode</a></ol>\n",
    "    <ol>1.2 <a href=\"#eksempel-på-struktur\">Eksempel på struktur</a></ol>\n",
    "\n",
    "<li><a href=\"#trigonometri\">Trigonometri</a></li>\n",
    "    <ol>2.1 <a href=\"#funksjoner\">Funksjoner</a></ol>\n",
    "\n",
    "<li><a href=\"#følger-og-rekker\">Følger og rekker</a></li>\n",
    "    <ol>3.1 <a href=\"#rekursiv-programmering\">Rekursiv programmering</a></ol>\n",
    "    <ol>3.1 <a href=\"#rekker\">Rekker</a></ol>\n",
    "\n",
    "<li><a href=\"#integrasjon\">Integrasjon</a></li>\n",
    "    <ol>4.1 <a href=\"#bestemt-integrasjon\">Bestemt integrasjon</a></ol>\n",
    "\n",
    "<li><a href=\"#vektorer\">Vektorer</a></li>\n",
    "    <ol>5.1 <a href=\"#ting-1\">Ting 1</a></ol>\n",
    "</ol>\n",
    "\n"
   ]
  },
  {
   "cell_type": "markdown",
   "metadata": {},
   "source": [
    "----\n",
    "## Setup\n",
    "### Obligatorisk kode"
   ]
  },
  {
   "cell_type": "code",
   "execution_count": null,
   "metadata": {},
   "outputs": [],
   "source": [
    "from matplotlib import rcParams, pyplot as plt              # grafing \n",
    "#from IPython.display import display, Latex, Markdown       # printe matte\n",
    "import numpy as np                                          # numpy\n",
    "\n",
    "rcParams['figure.dpi'] = 300                                # setter oppløsning for graf\n",
    "\n",
    "def graph(x, y: dict, x_lab =\"x\", y_lab =\"y\"):              # kode for å plotte graf\n",
    "    ''' input:  x values, y values: dict, x label = \"x\", y label = \"y\"\n",
    " output: matplotlib plot graph'''\n",
    "  \n",
    "    for name in y:\n",
    "        plt.plot(x, y[name], label = name, xunits=np.radians)\n",
    "\n",
    "    plt.axhline(color =\"k\")\n",
    "    plt.axvline(color =\"k\")\n",
    "    plt.xlim(x[0], x[-1])\n",
    "    plt.xlabel(x_lab)\n",
    "    plt.ylabel(y_lab)\n",
    "    plt.legend()\n",
    "    plt.grid()\n",
    "    #plt.xticks([])\n",
    "    #plt.yticks([])\n",
    "    #plt.ylim(0, 4)\n",
    "    plt.show()\n",
    "\n",
    "    "
   ]
  },
  {
   "cell_type": "markdown",
   "metadata": {},
   "source": [
    "### Eksempel på struktur"
   ]
  },
  {
   "cell_type": "markdown",
   "metadata": {},
   "source": [
    "$f(x) = x^2 + 5x - 1  $"
   ]
  },
  {
   "cell_type": "code",
   "execution_count": null,
   "metadata": {},
   "outputs": [],
   "source": [
    "def f(x):                                      # funksjonen, alle funksjoner bør være dok.\n",
    "    ''' input:  x\n",
    " output: x^3 + 5x - 1'''               \n",
    "    return x**2 + 5*x - 1                      # funksjonsutrykket for python\n",
    "\n",
    "x = np.linspace(0, 100)\n",
    "y = {\"f(x)\": f(x)}\n",
    "                                   \n",
    "graph(x, y)                                    # tegner graf\n",
    "\n"
   ]
  },
  {
   "cell_type": "markdown",
   "metadata": {},
   "source": [
    "----\n",
    "\n",
    "## Trigonometri\n",
    "\n",
    "### Funksjoner"
   ]
  },
  {
   "cell_type": "markdown",
   "metadata": {},
   "source": [
    "$f(x) = sin(x) $\n",
    "\n",
    "$g(x) = cos(x) $"
   ]
  },
  {
   "cell_type": "code",
   "execution_count": null,
   "metadata": {},
   "outputs": [],
   "source": [
    "p = np.pi\n",
    "x = np.linspace(0, 2*p)\n",
    "\n",
    "f = 325 * np.sin(x)\n",
    "g = 325 * np.sin(x - 2/3*p)\n",
    "h = 325 * np.sin(x - 4/3*p)\n",
    "\n",
    "functions = {\"L1\": f,\n",
    "             \"L2\": g,\n",
    "             \"L3\": h}\n",
    "\n",
    "graph(x, functions)\n"
   ]
  },
  {
   "cell_type": "markdown",
   "metadata": {},
   "source": [
    "----\n",
    "\n",
    "## Følger og rekker\n",
    "\n"
   ]
  },
  {
   "cell_type": "markdown",
   "metadata": {},
   "source": [
    "### Rekursiv programmering"
   ]
  },
  {
   "cell_type": "code",
   "execution_count": null,
   "metadata": {},
   "outputs": [],
   "source": [
    "def f(n):\n",
    "    if n == 1:\n",
    "        return 1\n",
    "\n",
    "    else:\n",
    "        return f(n - 1) + 2\n",
    "\n",
    "for n in range(11):\n",
    "    print(f(n))"
   ]
  },
  {
   "cell_type": "code",
   "execution_count": null,
   "metadata": {},
   "outputs": [],
   "source": [
    "def fibonacci(n):\n",
    "    if n <= 1:\n",
    "        return n\n",
    "\n",
    "    else:\n",
    "        return (fibonacci(n - 1) + fibonacci(n - 2))\n",
    "\n",
    "for i in range(1, 11):\n",
    "    print(fibonacci(i))"
   ]
  },
  {
   "cell_type": "markdown",
   "metadata": {},
   "source": [
    "### Rekker"
   ]
  },
  {
   "cell_type": "code",
   "execution_count": null,
   "metadata": {},
   "outputs": [],
   "source": [
    "s = 0\n",
    "for n in range(1, 52):\n",
    "    a = 40 * 0.5**n\n",
    "    s += a\n",
    "    ds = 40 - s\n",
    "\n",
    "    print(f\"a_{n} = {a}\")\n",
    "    print(f\"s_{n} = {s}\")\n",
    "    print(f\"Δs  = {a}\\n\")"
   ]
  },
  {
   "cell_type": "code",
   "execution_count": null,
   "metadata": {},
   "outputs": [],
   "source": [
    "from IPython.display import display, Markdown\n",
    "\n",
    "s = 0\n",
    "for n in range(1, 12):\n",
    "    a = 40 * 0.5**n\n",
    "    s += a\n",
    "    \n",
    "    delta_s = 40 - s\n",
    "\n",
    "    a = a.as_integer_ratio()\n",
    "    delta_s = delta_s.as_integer_ratio()\n",
    "\n",
    "    display(Markdown(rf\"\"\" \n",
    "$a_{({n})} = \\frac{({a[0]})}{({a[1]})}$ \n",
    "\n",
    "$s_{({n})} = {s}$\n",
    "\n",
    "$Δ s = \\frac{({delta_s[0]})}{({delta_s[1]})}$\"\"\")) \n",
    "    print(\"\\n\")\n",
    "\n",
    "\n",
    "    "
   ]
  },
  {
   "cell_type": "code",
   "execution_count": null,
   "metadata": {},
   "outputs": [],
   "source": [
    "from fractions import Fraction\n",
    "\n",
    "s = 0\n",
    "for n in range(1, 10):\n",
    "    a = 40 * 0.5**n\n",
    "    s += a\n",
    "    ds = 40 - s\n",
    "\n",
    "    a = a.as_integer_ratio()\n",
    "    #s = s.as_integer_ratio()\n",
    "    ds = ds.as_integer_ratio()\n",
    "\n",
    "    a = Fraction(a[0], a[1])\n",
    "    #s = Fraction(s[0], s[1])\n",
    "    ds = Fraction(ds[0], ds[1])\n",
    "\n",
    "    print(f\"a_{n} = {a}\")\n",
    "    print(f\"s_{n} = {s}\\n\")\n",
    "\n",
    "\n"
   ]
  },
  {
   "cell_type": "code",
   "execution_count": null,
   "metadata": {},
   "outputs": [],
   "source": [
    "a = 4\n",
    "\n",
    "for i in range(12):\n",
    "    print(a)\n",
    "    if a == 39364:\n",
    "        print(\"tallet er en del av rekka\")\n",
    "\n",
    "    elif a > 39364:\n",
    "        print(\"tallet er ikke en del av rekka\")\n",
    "        break\n",
    "    a *= 3"
   ]
  },
  {
   "cell_type": "code",
   "execution_count": null,
   "metadata": {},
   "outputs": [],
   "source": [
    "s = 0\n",
    "for n in range(1, 5):\n",
    "    a_n = 3 * 4**(n-1)\n",
    "    s_n = 4**n - 1\n",
    "    s += a_n\n",
    "\n",
    "    print(f\"a_{n} = {a_n}\")\n",
    "    print(f\"modell s{n} = {s}\")\n",
    "    print(f\"faktisk s = {s_n}\\n\")\n"
   ]
  },
  {
   "cell_type": "code",
   "execution_count": null,
   "metadata": {},
   "outputs": [],
   "source": [
    "def s(n):\n",
    "    if n == 1:\n",
    "        return 0.8\n",
    "\n",
    "    else:\n",
    "        return round(s(n-1), 4) * 0.88 + 0.8\n",
    "\n",
    "for n in range(1, 12):\n",
    "    print(round(s(n), 4))"
   ]
  },
  {
   "cell_type": "code",
   "execution_count": null,
   "metadata": {},
   "outputs": [],
   "source": [
    "s = 0\n",
    "\n",
    "for n in range(1, 6):\n",
    "    a = 2*n-1\n",
    "    s += a\n",
    "\n",
    "    print(f\"a_{n} = {a}\")\n",
    "    print(f\"s_{n} = {s}\\n\")\n",
    "    "
   ]
  },
  {
   "cell_type": "code",
   "execution_count": null,
   "metadata": {},
   "outputs": [],
   "source": [
    "n1 = 1\n",
    "n2 = 0\n",
    "\n",
    "for i in range(10):\n",
    "    s = n1 + n2\n",
    "    n2 = n1\n",
    "    n1 = s\n",
    "\n",
    "    print(s)"
   ]
  },
  {
   "cell_type": "code",
   "execution_count": null,
   "metadata": {},
   "outputs": [],
   "source": [
    "s = 0\n",
    "for n in range(1, 50000000):\n",
    "    a = ((-1)**(n+1)) * 4/(n*2 - 1)\n",
    "    s += a\n",
    "\n",
    "print(s)"
   ]
  },
  {
   "cell_type": "code",
   "execution_count": null,
   "metadata": {},
   "outputs": [],
   "source": [
    "s = 0\n",
    "x = 19000\n",
    "for n in range(0, 5):\n",
    "    s = s*1.03 + x\n",
    "    print(s)"
   ]
  },
  {
   "cell_type": "code",
   "execution_count": null,
   "metadata": {},
   "outputs": [],
   "source": [
    "s = 0\n",
    "for i in range(1, 11):\n",
    "    a = 58 * 0.94 ** i\n",
    "    s += a\n",
    "    print(s)"
   ]
  },
  {
   "cell_type": "code",
   "execution_count": null,
   "metadata": {},
   "outputs": [],
   "source": []
  },
  {
   "cell_type": "code",
   "execution_count": null,
   "metadata": {},
   "outputs": [],
   "source": [
    "s = 0\n",
    "a = 18286.85\n",
    "k = 1.03\n",
    "for i in range(5):\n",
    "    s += a * k **(i+1)\n",
    "print(round(s, 2))"
   ]
  },
  {
   "cell_type": "code",
   "execution_count": null,
   "metadata": {},
   "outputs": [],
   "source": [
    "a = 0                       # første ledd i følgen\n",
    "s = 0                       # startsummen\n",
    "k = 1.03                    # vekst konstanten\n",
    "\n",
    "\n",
    "while s <= 100000:          # kjører så lenge summen av rekka er under 100 000kr\n",
    "    s = 0                   # setter at summen av rekka er lik 0\n",
    "    a += 0.1                # øker a med 0.1 for hver iterasjon \n",
    "\n",
    "    for i in range(5):      # regner ut summen av rekka til 5\n",
    "        s += a * k **(i+1)\n",
    "    \n",
    "    s = round(s, 2)         # runder av summen til rekka med 2 desimaler fordi,\n",
    "                            # penger kan kun skrives med maks to desimaler\n",
    "\n",
    "print(a, s)                 # printer ut hva innskuddet må være og hva summen av rekka blir\n"
   ]
  },
  {
   "cell_type": "code",
   "execution_count": null,
   "metadata": {},
   "outputs": [],
   "source": [
    "a1 = 2\n",
    "k = 0.8\n",
    "s = 0\n",
    "\n",
    "for n in range(1, 1000):\n",
    "    an = a1 * k**(n-1)\n",
    "    s += an\n",
    "    print(s)\n",
    "\n",
    "print(s)"
   ]
  },
  {
   "cell_type": "code",
   "execution_count": null,
   "metadata": {},
   "outputs": [],
   "source": [
    "def a(n):\n",
    "    if n == 1:\n",
    "        return 16\n",
    "\n",
    "    else:\n",
    "        return 0.5 * a(n-1)\n",
    "s = 0\n",
    "for n in range(1, 22):\n",
    "    print(f\"Ledd nr. {n:2}: {a(n)}\")\n",
    "    s += a(n)\n",
    "\n",
    "print(\"\")\n",
    "print(s)\n"
   ]
  },
  {
   "cell_type": "code",
   "execution_count": null,
   "metadata": {},
   "outputs": [],
   "source": [
    "def s(n):\n",
    "    return 3*n**2 - 4*n\n",
    "\n",
    "def a(n):\n",
    "    return 6*n - 7\n",
    "\n",
    "egen_s = 0\n",
    "for n in range(1, 1000000):\n",
    "    egen_s += a(n)\n",
    "\n",
    "print(f\"ekte s = {s(n)}\")\n",
    "print(f\"egen s = {egen_s}\")"
   ]
  },
  {
   "cell_type": "markdown",
   "metadata": {},
   "source": [
    "----\n",
    "\n",
    "## Integrasjon"
   ]
  },
  {
   "cell_type": "markdown",
   "metadata": {},
   "source": [
    "### Bestemt integrasjon"
   ]
  },
  {
   "cell_type": "code",
   "execution_count": null,
   "metadata": {},
   "outputs": [],
   "source": []
  },
  {
   "cell_type": "code",
   "execution_count": null,
   "metadata": {},
   "outputs": [],
   "source": [
    "from math import pi, cos\n",
    "\n",
    "# funksjon\n",
    "def f(x):\n",
    "    return cos(x)\n",
    "    \n",
    "a = 0               # start     \n",
    "b = pi              # slutt\n",
    "N = 6               # antall trapeser\n",
    "h = (b-a) / N       # bredden på trapes\n",
    "total_areal = 0     # \"areal\" - det bestemte integralet\n",
    "\n",
    "# ghetto integrasjon\n",
    "for n in range(N):\n",
    "    areal = 0.5 * h * (f(a + n*h) + f(a + (n+1) * h))  # bruker trapes modellen: c(a + b) / 2\n",
    "    total_areal += areal\n",
    "    print(f\"{areal:.5f}\")\n",
    "\n",
    "print(f\"{total_areal:.5f}\")\n",
    "    "
   ]
  },
  {
   "cell_type": "markdown",
   "metadata": {},
   "source": [
    "----\n",
    "\n",
    "## Vektorer og romgeometri"
   ]
  },
  {
   "cell_type": "code",
   "execution_count": null,
   "metadata": {},
   "outputs": [],
   "source": [
    "from numpy import sqrt, linalg, dot, array, cross\n",
    "\n",
    "# vektorer vanilla\n",
    "u = [-0, 3, 6]\n",
    "v = [0, -1, -2]\n",
    "\n",
    "# vektorer numpy\n",
    "np_u = array(u)\n",
    "np_v = array(v)\n",
    "\n",
    "\n",
    "# lengde vanilla\n",
    "def lengde(v):\n",
    "    lengde = 0\n",
    "    for num in v:\n",
    "        lengde += num**2\n",
    "    \n",
    "    return sqrt(lengde)\n",
    "\n",
    "# lengde numpy\n",
    "np_lengde_u = linalg.norm(u)\n",
    "np_lengde_v = linalg.norm(v)\n",
    "\n",
    "\n",
    "# skalarprodukt vanilla\n",
    "def skalarprodukt(u, v):\n",
    "    skp = 0\n",
    "    rounds = len(u)\n",
    "    for i in range(rounds):\n",
    "        skp += u[i] * v[i]\n",
    "\n",
    "    return skp\n",
    "\n",
    "# skalarprodukt numpy\n",
    "np_skalarprodukt = dot(u, v)\n",
    "\n",
    "\n",
    "# kryssprodukt vanilla\n",
    "def kryssprodukt(u, v):\n",
    "    x1, x2 = u[0], v[0]\n",
    "    y1, y2 = u[1], v[1]\n",
    "    z1, z2 = u[2], v[2]\n",
    "\n",
    "    return [y1*z2 - z1*y2, -(x1*z2 - z1*x2), x1*y2 - y1*x2]\n",
    "\n",
    "# kryssprodukt numpy\n",
    "np_kryssprodukt = cross(np_u, np_v)\n",
    "\n",
    "\n",
    "# parallelle vektorer vanilla\n",
    "def parallelle(u, v):\n",
    "    if lengde(kryssprodukt(u, v)) == 0:\n",
    "        return True\n",
    "\n",
    "    else:\n",
    "        return False\n",
    "\n",
    "kryssprodukt(u, v)"
   ]
  },
  {
   "cell_type": "code",
   "execution_count": null,
   "metadata": {},
   "outputs": [],
   "source": [
    "import numpy as np\n",
    "import matplotlib.pyplot as plt\n",
    "\n",
    "N = 20\n",
    "fib = np.zeros(N)\n",
    "fib[0] = 1\n",
    "fib[1] = 1\n",
    "\n",
    "phi = np.zeros(N-1)\n",
    "x = np.linspace(1, N-1, N-1)\n",
    "\n",
    "\n",
    "for n in range(2, N):\n",
    "    fib[n] = fib[n-1] + fib[n-2]\n",
    "\n",
    "for n in range(N-1):\n",
    "    phi[n] = fib[n+1] / fib[n]\n",
    "\n",
    "graph(x, {\"phi\":phi})"
   ]
  },
  {
   "cell_type": "code",
   "execution_count": 8,
   "metadata": {},
   "outputs": [
    {
     "ename": "ValueError",
     "evalue": "x and y must have same first dimension, but have shapes (50,) and (21,)",
     "output_type": "error",
     "traceback": [
      "\u001b[1;31m---------------------------------------------------------------------------\u001b[0m",
      "\u001b[1;31mValueError\u001b[0m                                Traceback (most recent call last)",
      "\u001b[1;32m<ipython-input-8-f47d78b1cb81>\u001b[0m in \u001b[0;36m<module>\u001b[1;34m\u001b[0m\n\u001b[0;32m     10\u001b[0m \u001b[1;33m\u001b[0m\u001b[0m\n\u001b[0;32m     11\u001b[0m \u001b[0mx\u001b[0m \u001b[1;33m=\u001b[0m \u001b[0mnp\u001b[0m\u001b[1;33m.\u001b[0m\u001b[0mlinspace\u001b[0m\u001b[1;33m(\u001b[0m\u001b[1;36m0\u001b[0m\u001b[1;33m,\u001b[0m \u001b[1;36m20\u001b[0m\u001b[1;33m)\u001b[0m\u001b[1;33m\u001b[0m\u001b[1;33m\u001b[0m\u001b[0m\n\u001b[1;32m---> 12\u001b[1;33m \u001b[0mplt\u001b[0m\u001b[1;33m.\u001b[0m\u001b[0mplot\u001b[0m\u001b[1;33m(\u001b[0m\u001b[0mx\u001b[0m\u001b[1;33m,\u001b[0m \u001b[0minnbyggere\u001b[0m\u001b[1;33m)\u001b[0m\u001b[1;33m\u001b[0m\u001b[1;33m\u001b[0m\u001b[0m\n\u001b[0m\u001b[0;32m     13\u001b[0m \u001b[0mplt\u001b[0m\u001b[1;33m.\u001b[0m\u001b[0mshow\u001b[0m\u001b[1;33m(\u001b[0m\u001b[1;33m)\u001b[0m\u001b[1;33m\u001b[0m\u001b[1;33m\u001b[0m\u001b[0m\n",
      "\u001b[1;32mc:\\ProgramData\\Anaconda3\\lib\\site-packages\\matplotlib\\pyplot.py\u001b[0m in \u001b[0;36mplot\u001b[1;34m(scalex, scaley, data, *args, **kwargs)\u001b[0m\n\u001b[0;32m   2838\u001b[0m \u001b[1;33m@\u001b[0m\u001b[0m_copy_docstring_and_deprecators\u001b[0m\u001b[1;33m(\u001b[0m\u001b[0mAxes\u001b[0m\u001b[1;33m.\u001b[0m\u001b[0mplot\u001b[0m\u001b[1;33m)\u001b[0m\u001b[1;33m\u001b[0m\u001b[1;33m\u001b[0m\u001b[0m\n\u001b[0;32m   2839\u001b[0m \u001b[1;32mdef\u001b[0m \u001b[0mplot\u001b[0m\u001b[1;33m(\u001b[0m\u001b[1;33m*\u001b[0m\u001b[0margs\u001b[0m\u001b[1;33m,\u001b[0m \u001b[0mscalex\u001b[0m\u001b[1;33m=\u001b[0m\u001b[1;32mTrue\u001b[0m\u001b[1;33m,\u001b[0m \u001b[0mscaley\u001b[0m\u001b[1;33m=\u001b[0m\u001b[1;32mTrue\u001b[0m\u001b[1;33m,\u001b[0m \u001b[0mdata\u001b[0m\u001b[1;33m=\u001b[0m\u001b[1;32mNone\u001b[0m\u001b[1;33m,\u001b[0m \u001b[1;33m**\u001b[0m\u001b[0mkwargs\u001b[0m\u001b[1;33m)\u001b[0m\u001b[1;33m:\u001b[0m\u001b[1;33m\u001b[0m\u001b[1;33m\u001b[0m\u001b[0m\n\u001b[1;32m-> 2840\u001b[1;33m     return gca().plot(\n\u001b[0m\u001b[0;32m   2841\u001b[0m         \u001b[1;33m*\u001b[0m\u001b[0margs\u001b[0m\u001b[1;33m,\u001b[0m \u001b[0mscalex\u001b[0m\u001b[1;33m=\u001b[0m\u001b[0mscalex\u001b[0m\u001b[1;33m,\u001b[0m \u001b[0mscaley\u001b[0m\u001b[1;33m=\u001b[0m\u001b[0mscaley\u001b[0m\u001b[1;33m,\u001b[0m\u001b[1;33m\u001b[0m\u001b[1;33m\u001b[0m\u001b[0m\n\u001b[0;32m   2842\u001b[0m         **({\"data\": data} if data is not None else {}), **kwargs)\n",
      "\u001b[1;32mc:\\ProgramData\\Anaconda3\\lib\\site-packages\\matplotlib\\axes\\_axes.py\u001b[0m in \u001b[0;36mplot\u001b[1;34m(self, scalex, scaley, data, *args, **kwargs)\u001b[0m\n\u001b[0;32m   1741\u001b[0m         \"\"\"\n\u001b[0;32m   1742\u001b[0m         \u001b[0mkwargs\u001b[0m \u001b[1;33m=\u001b[0m \u001b[0mcbook\u001b[0m\u001b[1;33m.\u001b[0m\u001b[0mnormalize_kwargs\u001b[0m\u001b[1;33m(\u001b[0m\u001b[0mkwargs\u001b[0m\u001b[1;33m,\u001b[0m \u001b[0mmlines\u001b[0m\u001b[1;33m.\u001b[0m\u001b[0mLine2D\u001b[0m\u001b[1;33m)\u001b[0m\u001b[1;33m\u001b[0m\u001b[1;33m\u001b[0m\u001b[0m\n\u001b[1;32m-> 1743\u001b[1;33m         \u001b[0mlines\u001b[0m \u001b[1;33m=\u001b[0m \u001b[1;33m[\u001b[0m\u001b[1;33m*\u001b[0m\u001b[0mself\u001b[0m\u001b[1;33m.\u001b[0m\u001b[0m_get_lines\u001b[0m\u001b[1;33m(\u001b[0m\u001b[1;33m*\u001b[0m\u001b[0margs\u001b[0m\u001b[1;33m,\u001b[0m \u001b[0mdata\u001b[0m\u001b[1;33m=\u001b[0m\u001b[0mdata\u001b[0m\u001b[1;33m,\u001b[0m \u001b[1;33m**\u001b[0m\u001b[0mkwargs\u001b[0m\u001b[1;33m)\u001b[0m\u001b[1;33m]\u001b[0m\u001b[1;33m\u001b[0m\u001b[1;33m\u001b[0m\u001b[0m\n\u001b[0m\u001b[0;32m   1744\u001b[0m         \u001b[1;32mfor\u001b[0m \u001b[0mline\u001b[0m \u001b[1;32min\u001b[0m \u001b[0mlines\u001b[0m\u001b[1;33m:\u001b[0m\u001b[1;33m\u001b[0m\u001b[1;33m\u001b[0m\u001b[0m\n\u001b[0;32m   1745\u001b[0m             \u001b[0mself\u001b[0m\u001b[1;33m.\u001b[0m\u001b[0madd_line\u001b[0m\u001b[1;33m(\u001b[0m\u001b[0mline\u001b[0m\u001b[1;33m)\u001b[0m\u001b[1;33m\u001b[0m\u001b[1;33m\u001b[0m\u001b[0m\n",
      "\u001b[1;32mc:\\ProgramData\\Anaconda3\\lib\\site-packages\\matplotlib\\axes\\_base.py\u001b[0m in \u001b[0;36m__call__\u001b[1;34m(self, data, *args, **kwargs)\u001b[0m\n\u001b[0;32m    271\u001b[0m                 \u001b[0mthis\u001b[0m \u001b[1;33m+=\u001b[0m \u001b[0margs\u001b[0m\u001b[1;33m[\u001b[0m\u001b[1;36m0\u001b[0m\u001b[1;33m]\u001b[0m\u001b[1;33m,\u001b[0m\u001b[1;33m\u001b[0m\u001b[1;33m\u001b[0m\u001b[0m\n\u001b[0;32m    272\u001b[0m                 \u001b[0margs\u001b[0m \u001b[1;33m=\u001b[0m \u001b[0margs\u001b[0m\u001b[1;33m[\u001b[0m\u001b[1;36m1\u001b[0m\u001b[1;33m:\u001b[0m\u001b[1;33m]\u001b[0m\u001b[1;33m\u001b[0m\u001b[1;33m\u001b[0m\u001b[0m\n\u001b[1;32m--> 273\u001b[1;33m             \u001b[1;32myield\u001b[0m \u001b[1;32mfrom\u001b[0m \u001b[0mself\u001b[0m\u001b[1;33m.\u001b[0m\u001b[0m_plot_args\u001b[0m\u001b[1;33m(\u001b[0m\u001b[0mthis\u001b[0m\u001b[1;33m,\u001b[0m \u001b[0mkwargs\u001b[0m\u001b[1;33m)\u001b[0m\u001b[1;33m\u001b[0m\u001b[1;33m\u001b[0m\u001b[0m\n\u001b[0m\u001b[0;32m    274\u001b[0m \u001b[1;33m\u001b[0m\u001b[0m\n\u001b[0;32m    275\u001b[0m     \u001b[1;32mdef\u001b[0m \u001b[0mget_next_color\u001b[0m\u001b[1;33m(\u001b[0m\u001b[0mself\u001b[0m\u001b[1;33m)\u001b[0m\u001b[1;33m:\u001b[0m\u001b[1;33m\u001b[0m\u001b[1;33m\u001b[0m\u001b[0m\n",
      "\u001b[1;32mc:\\ProgramData\\Anaconda3\\lib\\site-packages\\matplotlib\\axes\\_base.py\u001b[0m in \u001b[0;36m_plot_args\u001b[1;34m(self, tup, kwargs)\u001b[0m\n\u001b[0;32m    397\u001b[0m \u001b[1;33m\u001b[0m\u001b[0m\n\u001b[0;32m    398\u001b[0m         \u001b[1;32mif\u001b[0m \u001b[0mx\u001b[0m\u001b[1;33m.\u001b[0m\u001b[0mshape\u001b[0m\u001b[1;33m[\u001b[0m\u001b[1;36m0\u001b[0m\u001b[1;33m]\u001b[0m \u001b[1;33m!=\u001b[0m \u001b[0my\u001b[0m\u001b[1;33m.\u001b[0m\u001b[0mshape\u001b[0m\u001b[1;33m[\u001b[0m\u001b[1;36m0\u001b[0m\u001b[1;33m]\u001b[0m\u001b[1;33m:\u001b[0m\u001b[1;33m\u001b[0m\u001b[1;33m\u001b[0m\u001b[0m\n\u001b[1;32m--> 399\u001b[1;33m             raise ValueError(f\"x and y must have same first dimension, but \"\n\u001b[0m\u001b[0;32m    400\u001b[0m                              f\"have shapes {x.shape} and {y.shape}\")\n\u001b[0;32m    401\u001b[0m         \u001b[1;32mif\u001b[0m \u001b[0mx\u001b[0m\u001b[1;33m.\u001b[0m\u001b[0mndim\u001b[0m \u001b[1;33m>\u001b[0m \u001b[1;36m2\u001b[0m \u001b[1;32mor\u001b[0m \u001b[0my\u001b[0m\u001b[1;33m.\u001b[0m\u001b[0mndim\u001b[0m \u001b[1;33m>\u001b[0m \u001b[1;36m2\u001b[0m\u001b[1;33m:\u001b[0m\u001b[1;33m\u001b[0m\u001b[1;33m\u001b[0m\u001b[0m\n",
      "\u001b[1;31mValueError\u001b[0m: x and y must have same first dimension, but have shapes (50,) and (21,)"
     ]
    },
    {
     "data": {
      "image/png": "[encoded data removed]",
      "text/plain": [
       "<Figure size 432x288 with 1 Axes>"
      ]
     },
     "metadata": {
      "needs_background": "light"
     },
     "output_type": "display_data"
    }
   ],
   "source": [
    "import numpy as np\n",
    "from matplotlib import pyplot as plt\n",
    "\n",
    "innbyggere = [1000]\n",
    "vekst = 1.02\n",
    "år = 20\n",
    "\n",
    "for i in range(år):\n",
    "    innbyggere.append(round(innbyggere[i]*vekst))\n",
    "\n",
    "x = np.linspace(0, 20)\n",
    "plt.plot(x, innbyggere)\n",
    "plt.show()"
   ]
  }
 ],
 "metadata": {
  "kernelspec": {
   "display_name": "Python 3.8.8 ('base')",
   "language": "python",
   "name": "python3"
  },
  "language_info": {
   "codemirror_mode": {
    "name": "ipython",
    "version": 3
   },
   "file_extension": ".py",
   "mimetype": "text/x-python",
   "name": "python",
   "nbconvert_exporter": "python",
   "pygments_lexer": "ipython3",
   "version": "3.8.8"
  },
  "orig_nbformat": 4,
  "vscode": {
   "interpreter": {
    "hash": "ad2bdc8ecc057115af97d19610ffacc2b4e99fae6737bb82f5d7fb13d2f2c186"
   }
  }
 },
 "nbformat": 4,
 "nbformat_minor": 2
}
