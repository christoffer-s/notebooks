{
 "cells": [
  {
   "cell_type": "markdown",
   "metadata": {},
   "source": [
    "# R2"
   ]
  },
  {
   "cell_type": "markdown",
   "metadata": {},
   "source": [
    "Github repo: [`github.com/christoffer-s/notebooks`](https://github.com/christoffer-s/notebooks) \n",
    "\n",
    "<br><br/>\n",
    "\n",
    "> Det eneste jeg savner er resten \n",
    ">\n",
    "> \\- Carmen"
   ]
  },
  {
   "cell_type": "markdown",
   "metadata": {},
   "source": [
    "----\n",
    "\n",
    "## Innholdsfortegnelse\n",
    "\n",
    "<ol>\n",
    "<li><a href=\"#setup\">Setup</a></li>\n",
    "    <ol>1.1 <a href=\"#obligatorisk-kode\">Obligatorisk kode</a></ol>\n",
    "    <ol>1.2 <a href=\"#eksempel-på-struktur\">Eksempel på struktur</a></ol>\n",
    "\n",
    "<li><a href=\"#trigonometri\">Trigonometri</a></li>\n",
    "    <ol>2.1 <a href=\"#funksjoner\">Funksjoner</a></ol>\n",
    "\n",
    "<li><a href=\"#følger-og-rekker\">Følger og rekker</a></li>\n",
    "    <ol>3.1 <a href=\"#ting-1\">Ting 1</a></ol>\n",
    "\n",
    "<li><a href=\"#derivasjon\">Derivasjon</a></li>\n",
    "    <ol>4.1 <a href=\"#ting-1\">Ting 1</a></ol>\n",
    "\n",
    "<li><a href=\"#integrasjon\">Integrasjon</a></li>\n",
    "    <ol>5.1 <a href=\"#ting-1\">Ting 1</a></ol>\n",
    "\n",
    "<li><a href=\"#vektorer\">Vektorer</a></li>\n",
    "    <ol>6.1 <a href=\"#ting-1\">Ting 1</a></ol>\n",
    "</ol>\n",
    "\n"
   ]
  },
  {
   "cell_type": "markdown",
   "metadata": {},
   "source": [
    "----\n",
    "## Setup\n",
    "### Obligatorisk kode"
   ]
  },
  {
   "cell_type": "code",
   "execution_count": 53,
   "metadata": {},
   "outputs": [],
   "source": [
    "from matplotlib import rcParams, pyplot as plt              # grafing \n",
    "#from IPython.display import display, Latex, Markdown        # printe matte\n",
    "import numpy as np                                          # numpy\n",
    "\n",
    "rcParams['figure.dpi'] = 300                                # setter oppløsning for graf\n",
    "\n",
    "def graph(x, y: dict, x_lab =\"x\", y_lab =\"y\"):              # kode for å plotte graf\n",
    "    ''' input:  x values, y values: dict, x label = \"x\", y label = \"y\"\n",
    " output: matplotlib plot graph'''\n",
    "  \n",
    "    for name in y:\n",
    "        plt.plot(x, y[name], label = name, xunits=np.radians)\n",
    "\n",
    "    plt.axhline(color =\"k\")\n",
    "    plt.axvline(color =\"k\")\n",
    "    plt.xlim(x[0], x[-1])\n",
    "    plt.xlabel(x_lab)\n",
    "    plt.ylabel(y_lab)\n",
    "    plt.legend()\n",
    "    plt.grid()\n",
    "    #plt.xticks([])\n",
    "    #plt.yticks([])\n",
    "    #plt.ylim(0, 4)\n",
    "    plt.show()\n",
    "\n",
    "    "
   ]
  },
  {
   "cell_type": "markdown",
   "metadata": {},
   "source": [
    "### Eksempel på struktur"
   ]
  },
  {
   "cell_type": "markdown",
   "metadata": {},
   "source": [
    "$f(x) = x^2 + 5x - 1  $"
   ]
  },
  {
   "cell_type": "code",
   "execution_count": null,
   "metadata": {},
   "outputs": [],
   "source": [
    "def f(x):                                      # funksjonen, alle funksjoner bør være dok.\n",
    "    ''' input:  x\n",
    " output: x^3 + 5x - 1'''               \n",
    "    return x**2 + 5*x - 1                      # funksjonsutrykket for python\n",
    "\n",
    "x = np.linspace(0, 100)\n",
    "y = {\"f(x)\": f(x)}\n",
    "                                   \n",
    "graph(x, y)                                    # tegner graf\n",
    "\n"
   ]
  },
  {
   "cell_type": "markdown",
   "metadata": {},
   "source": [
    "----\n",
    "\n",
    "## Trigonometri\n",
    "\n",
    "### Funksjoner"
   ]
  },
  {
   "cell_type": "markdown",
   "metadata": {},
   "source": [
    "$f(x) = sin(x) $\n",
    "\n",
    "$g(x) = cos(x) $"
   ]
  },
  {
   "cell_type": "code",
   "execution_count": null,
   "metadata": {},
   "outputs": [],
   "source": [
    "p = np.pi\n",
    "x = np.linspace(0, 2*p)\n",
    "\n",
    "f = 325 * np.sin(x)\n",
    "g = 325 * np.sin(x - 2/3*p)\n",
    "h = 325 * np.sin(x - 4/3*p)\n",
    "\n",
    "functions = {\"L1\": f,\n",
    "             \"L2\": g,\n",
    "             \"L3\": h}\n",
    "\n",
    "graph(x, functions)\n"
   ]
  },
  {
   "cell_type": "markdown",
   "metadata": {},
   "source": [
    "----\n",
    "\n",
    "## Følger og rekker\n",
    "\n"
   ]
  },
  {
   "cell_type": "markdown",
   "metadata": {},
   "source": [
    "### Rekursiv programmering"
   ]
  },
  {
   "cell_type": "code",
   "execution_count": null,
   "metadata": {},
   "outputs": [],
   "source": [
    "def f(n):\n",
    "    if n == 1:\n",
    "        return 1\n",
    "\n",
    "    else:\n",
    "        return f(n - 1) + 2\n",
    "\n",
    "for n in range(11):\n",
    "    print(f(n))"
   ]
  },
  {
   "cell_type": "code",
   "execution_count": null,
   "metadata": {},
   "outputs": [],
   "source": [
    "def fibonacci(n):\n",
    "    if n <= 1:\n",
    "        return n\n",
    "\n",
    "    else:\n",
    "        return (fibonacci(n - 1) + fibonacci(n - 2))\n",
    "\n",
    "for i in range(1, 11):\n",
    "    print(fibonacci(i))"
   ]
  },
  {
   "cell_type": "markdown",
   "metadata": {},
   "source": [
    "### Rekker"
   ]
  },
  {
   "cell_type": "code",
   "execution_count": null,
   "metadata": {},
   "outputs": [],
   "source": [
    "s = 0\n",
    "for n in range(1, 52):\n",
    "    a = 40 * 0.5**n\n",
    "    s += a\n",
    "    ds = 40 - s\n",
    "\n",
    "    print(f\"a_{n} = {a}\")\n",
    "    print(f\"s_{n} = {s}\")\n",
    "    print(f\"Δs  = {a}\\n\")"
   ]
  },
  {
   "cell_type": "code",
   "execution_count": null,
   "metadata": {},
   "outputs": [],
   "source": [
    "from IPython.display import display, Markdown\n",
    "\n",
    "s = 0\n",
    "for n in range(1, 12):\n",
    "    a = 40 * 0.5**n\n",
    "    s += a\n",
    "    \n",
    "    delta_s = 40 - s\n",
    "\n",
    "    a = a.as_integer_ratio()\n",
    "    delta_s = delta_s.as_integer_ratio()\n",
    "\n",
    "    display(Markdown(rf\"\"\" \n",
    "$a_{({n})} = \\frac{({a[0]})}{({a[1]})}$ \n",
    "\n",
    "$s_{({n})} = {s}$\n",
    "\n",
    "$Δ s = \\frac{({delta_s[0]})}{({delta_s[1]})}$\"\"\")) \n",
    "    print(\"\\n\")\n",
    "\n",
    "\n",
    "    "
   ]
  },
  {
   "cell_type": "code",
   "execution_count": 36,
   "metadata": {},
   "outputs": [
    {
     "name": "stdout",
     "output_type": "stream",
     "text": [
      "a_1 = 20\n",
      "s_1 = 20.0\n",
      "\n",
      "a_2 = 10\n",
      "s_2 = 30.0\n",
      "\n",
      "a_3 = 5\n",
      "s_3 = 35.0\n",
      "\n",
      "a_4 = 5/2\n",
      "s_4 = 37.5\n",
      "\n",
      "a_5 = 5/4\n",
      "s_5 = 38.75\n",
      "\n",
      "a_6 = 5/8\n",
      "s_6 = 39.375\n",
      "\n",
      "a_7 = 5/16\n",
      "s_7 = 39.6875\n",
      "\n",
      "a_8 = 5/32\n",
      "s_8 = 39.84375\n",
      "\n",
      "a_9 = 5/64\n",
      "s_9 = 39.921875\n",
      "\n"
     ]
    }
   ],
   "source": [
    "from fractions import Fraction\n",
    "\n",
    "s = 0\n",
    "for n in range(1, 10):\n",
    "    a = 40 * 0.5**n\n",
    "    s += a\n",
    "    ds = 40 - s\n",
    "\n",
    "    a = a.as_integer_ratio()\n",
    "    #s = s.as_integer_ratio()\n",
    "    ds = ds.as_integer_ratio()\n",
    "\n",
    "    a = Fraction(a[0], a[1])\n",
    "    #s = Fraction(s[0], s[1])\n",
    "    ds = Fraction(ds[0], ds[1])\n",
    "\n",
    "    print(f\"a_{n} = {a}\")\n",
    "    print(f\"s_{n} = {s}\\n\")\n",
    "\n",
    "\n"
   ]
  },
  {
   "cell_type": "code",
   "execution_count": null,
   "metadata": {},
   "outputs": [],
   "source": [
    "a = 4\n",
    "\n",
    "for i in range(12):\n",
    "    print(a)\n",
    "    if a == 39364:\n",
    "        print(\"tallet er en del av rekka\")\n",
    "\n",
    "    elif a > 39364:\n",
    "        print(\"tallet er ikke en del av rekka\")\n",
    "        break\n",
    "    a *= 3"
   ]
  },
  {
   "cell_type": "code",
   "execution_count": null,
   "metadata": {},
   "outputs": [],
   "source": [
    "s = 0\n",
    "for n in range(1, 5):\n",
    "    a_n = 3 * 4**(n-1)\n",
    "    s_n = 4**n - 1\n",
    "    s += a_n\n",
    "\n",
    "    print(f\"a_{n} = {a_n}\")\n",
    "    print(f\"modell s{n} = {s}\")\n",
    "    print(f\"faktisk s = {s_n}\\n\")\n"
   ]
  },
  {
   "cell_type": "code",
   "execution_count": 65,
   "metadata": {},
   "outputs": [
    {
     "name": "stdout",
     "output_type": "stream",
     "text": [
      "0.8\n",
      "1.504\n",
      "2.1235\n",
      "2.6687\n",
      "3.1485\n",
      "3.5707\n",
      "3.9422\n",
      "4.2691\n",
      "4.5568\n",
      "4.81\n",
      "5.0328\n"
     ]
    }
   ],
   "source": [
    "def s(n):\n",
    "    if n == 1:\n",
    "        return 0.8\n",
    "\n",
    "    else:\n",
    "        return round(s(n-1), 4) * 0.88 + 0.8\n",
    "\n",
    "for n in range(1, 12):\n",
    "    print(round(s(n), 4))"
   ]
  },
  {
   "cell_type": "code",
   "execution_count": null,
   "metadata": {},
   "outputs": [],
   "source": [
    "s = 0\n",
    "\n",
    "for n in range(1, 6):\n",
    "    a = 2*n-1\n",
    "    s += a\n",
    "\n",
    "    print(f\"a_{n} = {a}\")\n",
    "    print(f\"s_{n} = {s}\\n\")\n",
    "    "
   ]
  },
  {
   "cell_type": "code",
   "execution_count": 32,
   "metadata": {},
   "outputs": [
    {
     "name": "stdout",
     "output_type": "stream",
     "text": [
      "1\n",
      "2\n",
      "3\n",
      "5\n",
      "8\n",
      "13\n",
      "21\n",
      "34\n",
      "55\n",
      "89\n"
     ]
    }
   ],
   "source": [
    "n1 = 1\n",
    "n2 = 0\n",
    "\n",
    "for i in range(10):\n",
    "    s = n1 + n2\n",
    "    n2 = n1\n",
    "    n1 = s\n",
    "\n",
    "    print(s)"
   ]
  },
  {
   "cell_type": "code",
   "execution_count": 51,
   "metadata": {},
   "outputs": [
    {
     "name": "stdout",
     "output_type": "stream",
     "text": [
      "3.141592673590251\n"
     ]
    }
   ],
   "source": [
    "s = 0\n",
    "for n in range(1, 50000000):\n",
    "    a = ((-1)**(n+1)) * 4/(n*2 - 1)\n",
    "    s += a\n",
    "\n",
    "print(s)"
   ]
  },
  {
   "cell_type": "code",
   "execution_count": 63,
   "metadata": {},
   "outputs": [
    {
     "name": "stdout",
     "output_type": "stream",
     "text": [
      "19000.0\n",
      "38570.0\n",
      "58727.1\n",
      "79488.913\n",
      "100873.58039\n"
     ]
    }
   ],
   "source": [
    "s = 0\n",
    "x = 19000\n",
    "for n in range(0, 5):\n",
    "    s = s*1.03 + x\n",
    "    print(s)"
   ]
  },
  {
   "cell_type": "code",
   "execution_count": 73,
   "metadata": {},
   "outputs": [
    {
     "name": "stdout",
     "output_type": "stream",
     "text": [
      "54.519999999999996\n",
      "105.7688\n",
      "153.942672\n",
      "199.22611167999997\n",
      "241.79254497919996\n",
      "281.80499228044795\n",
      "319.41669274362107\n",
      "354.77169117900377\n",
      "388.0053897082635\n",
      "419.2450663257677\n"
     ]
    }
   ],
   "source": [
    "s = 0\n",
    "for i in range(1, 11):\n",
    "    a = 58 * 0.94 ** i\n",
    "    s += a\n",
    "    print(s)"
   ]
  },
  {
   "cell_type": "code",
   "execution_count": 80,
   "metadata": {},
   "outputs": [
    {
     "data": {
      "text/plain": [
       "3.141592653589793"
      ]
     },
     "execution_count": 80,
     "metadata": {},
     "output_type": "execute_result"
    }
   ],
   "source": []
  },
  {
   "cell_type": "code",
   "execution_count": 120,
   "metadata": {},
   "outputs": [
    {
     "name": "stdout",
     "output_type": "stream",
     "text": [
      "99999.99\n"
     ]
    }
   ],
   "source": [
    "s = 0\n",
    "a = 18286.85\n",
    "k = 1.03\n",
    "for i in range(5):\n",
    "    s += a * k **(i+1)\n",
    "print(round(s, 2))"
   ]
  },
  {
   "cell_type": "code",
   "execution_count": 132,
   "metadata": {},
   "outputs": [
    {
     "name": "stdout",
     "output_type": "stream",
     "text": [
      "18286.900000014382 100000.26\n"
     ]
    }
   ],
   "source": [
    "a = 0                       # første ledd i følgen\n",
    "s = 0                       # startsummen\n",
    "k = 1.03                    # vekst konstanten\n",
    "\n",
    "\n",
    "while s <= 100000:          # kjører så lenge summen av rekka er under 100 000kr\n",
    "    s = 0                   # setter at summen av rekka er lik 0\n",
    "    a += 0.1                # øker a med 0.1 for hver iterasjon \n",
    "\n",
    "    for i in range(5):      # regner ut summen av rekka til 5\n",
    "        s += a * k **(i+1)\n",
    "    \n",
    "    s = round(s, 2)         # runder av summen til rekka med 2 desimaler fordi,\n",
    "                            # penger kan kun skrives med maks to desimaler\n",
    "\n",
    "print(a, s)                 # printer ut hva innskuddet må være og hva summen av rekka blir\n"
   ]
  }
 ],
 "metadata": {
  "kernelspec": {
   "display_name": "Python 3.8.8 ('base')",
   "language": "python",
   "name": "python3"
  },
  "language_info": {
   "codemirror_mode": {
    "name": "ipython",
    "version": 3
   },
   "file_extension": ".py",
   "mimetype": "text/x-python",
   "name": "python",
   "nbconvert_exporter": "python",
   "pygments_lexer": "ipython3",
   "version": "3.8.8"
  },
  "orig_nbformat": 4,
  "vscode": {
   "interpreter": {
    "hash": "ad2bdc8ecc057115af97d19610ffacc2b4e99fae6737bb82f5d7fb13d2f2c186"
   }
  }
 },
 "nbformat": 4,
 "nbformat_minor": 2
}
