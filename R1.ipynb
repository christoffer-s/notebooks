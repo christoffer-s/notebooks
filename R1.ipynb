{
 "cells": [
  {
   "cell_type": "markdown",
   "metadata": {},
   "source": [
    "# R1\n",
    "\n",
    "Github repo: [`github.com/christoffer-s/notebooks`](https://github.com/christoffer-s/notebooks) \n",
    "\n",
    "\n",
    "<br>\n",
    "<br/>\n",
    "\n",
    "\n",
    "\n",
    "> Det eneste jeg savner er resten \n",
    ">\n",
    "> \\- Carmen"
   ]
  },
  {
   "cell_type": "markdown",
   "metadata": {},
   "source": [
    "## Table of contents\n",
    "1. [Grenseverdier](##Grenseverdier)\n"
   ]
  },
  {
   "cell_type": "markdown",
   "metadata": {},
   "source": [
    "## Grenseverdier\n",
    "\n",
    "---"
   ]
  },
  {
   "cell_type": "code",
   "execution_count": 32,
   "metadata": {},
   "outputs": [
    {
     "name": "stdout",
     "output_type": "stream",
     "text": [
      "Øvre grenseverdi: f(1.0) = -0.0\n",
      "Nedre grenseverdi: f(1.0) = 0.0\n"
     ]
    }
   ],
   "source": [
    "def f(x):\n",
    "    return x**3 +2*x**2 + 3*x - 6\n",
    "\n",
    "a = float(input(\"Skriv a verdien: \"))\n",
    "nøyaktighet = 0.00000001\n",
    "\n",
    "t = 0.1\n",
    "while t > nøyaktighet:\n",
    "    t /= 10\n",
    "\n",
    "print(f\"Øvre grenseverdi: f({round(a - t, 6)}) = {round(f(a - t), 6)}\")\n",
    "print(f\"Nedre grenseverdi: f({round(a + t, 6)}) = {round(f(a + t), 6)}\")"
   ]
  },
  {
   "cell_type": "code",
   "execution_count": null,
   "metadata": {},
   "outputs": [],
   "source": []
  },
  {
   "cell_type": "markdown",
   "metadata": {},
   "source": [
    "## Gjennomsnitt\n",
    "\n",
    "---"
   ]
  },
  {
   "cell_type": "code",
   "execution_count": null,
   "metadata": {},
   "outputs": [],
   "source": [
    "def avg(x: list) -> float:\n",
    "    '''Input:      En liste med tall \\nOutput:     Et desimaltall \\nFunksjon:   Regner ut gjennomsnitt av listen'''\n",
    "    return sum(x) / len(x)\n",
    "\n",
    "\n",
    "liste = [3, 4, 5, 6, 7]\n",
    "\n",
    "print(avg(liste))"
   ]
  },
  {
   "cell_type": "markdown",
   "metadata": {},
   "source": [
    "## Andregradsfunksjon\n",
    "\n",
    "---"
   ]
  },
  {
   "cell_type": "code",
   "execution_count": null,
   "metadata": {},
   "outputs": [],
   "source": [
    "#   #   #   #   #   #   #   #   #   #   #   #   #\n",
    "#                                               #\n",
    "#    Legge til grafing av f'(x)                 #\n",
    "#                                               #\n",
    "#    Bedre UI for svar og grafing               #\n",
    "#                                               #\n",
    "#    Forbedre printing av verditabell           #\n",
    "#                                               #\n",
    "#   #   #   #   #   #   #   #   #   #   #   #   #\n",
    "\n",
    "from matplotlib import pyplot as plt\n",
    "from numpy import linspace, sqrt\n",
    "\n",
    "class andregradsfunksjon():\n",
    "    '''A class to analyse second degree polynomial functions.'''  \n",
    "    def __init__(self, navn, likning):\n",
    "        self.likning = likning\n",
    "        self.navn = navn      \n",
    "        self.a, self.b, self.c = self.abc()\n",
    "\n",
    "\n",
    "    def abc(self):\n",
    "        index = 0\n",
    "        i = 0\n",
    "        for letter in self.likning:\n",
    "            if letter == \"+\" or letter == \"-\":\n",
    "                if index == 0:\n",
    "                    b_index = i\n",
    "\n",
    "                elif index == 1:\n",
    "                    c_index = i\n",
    "\n",
    "                index += 1\n",
    "            i += 1\n",
    "        \n",
    "        return float(self.likning[0:b_index - 3]), float(self.likning[b_index:c_index - 1]), float(self.likning[c_index:])\n",
    "\n",
    "\n",
    "    def funksjon(self):\n",
    "        return f\"{self.navn}(x) = {self.likning}\"\n",
    "\n",
    "\n",
    "    def funksjon_punkt(self, x):\n",
    "        return self.a*x**2 + self.b*x + self.c\n",
    "\n",
    "\n",
    "    def funksjon_nullpunkter(self):\n",
    "        a = self.a\n",
    "        b = self.b\n",
    "        c = self.c\n",
    "\n",
    "        if (b**2) - (4*a*c) >= 0:\n",
    "            rot = sqrt((b**2) - (4*a*c))\n",
    "            \n",
    "            x1 = (-b - rot) / (2*a)\n",
    "            x2 = (-b + rot) / (2*a)\n",
    "\n",
    "        else:\n",
    "            x1 = None\n",
    "            x2 = None\n",
    "\n",
    "        return x1, x2\n",
    "\n",
    "\n",
    "    def ekstremalpunkt(self):\n",
    "        x = (-self.b) / (2 * self.a)\n",
    "        return x, self.funksjon_punkt(x)\n",
    "\n",
    "\n",
    "    def derivert(self):\n",
    "        return f\"{self.navn}'(x) = {2*self.a}x + {self.b}\"\n",
    "\n",
    "\n",
    "    def derivert_punkt(self, x):\n",
    "        return (2 * self.a * x) + self.b\n",
    "\n",
    "\n",
    "    def funksjon_verditabell(self, start, stopp):\n",
    "        verditabell = [self.funksjon(), \"---------------\"]\n",
    "        \n",
    "        for i in range(start, stopp + 1):\n",
    "            verditabell.append(f\"{i}   |   {self.funksjon(i)}\")\n",
    "        \n",
    "        verditabell.append(\"---------------\")\n",
    "        return verditabell\n",
    "\n",
    "\n",
    "    def derivert_verditabell(self, start, stopp):\n",
    "        verditabell = [self.derivert(), \"---------------\"]\n",
    "        \n",
    "        for i in range(start, stopp + 1):\n",
    "            verditabell.append(f\"{i}   |   {self.derivert_punkt(i)}\")\n",
    "        \n",
    "        verditabell.append(\"---------------\")\n",
    "        return verditabell\n",
    "\n",
    "    \n",
    "    def funksjon_graf(self, x_start, x_stopp):\n",
    "        x = linspace(x_start, x_stopp)\n",
    "        plt.grid()\n",
    "        plt.plot(x, self.funksjon_punkt(x), label = self.funksjon())\n",
    "        plt.legend()     \n",
    "        plt.show()\n",
    "\n",
    "\n",
    "\n",
    "f = andregradsfunksjon(\"f\", \"1x^2-4x+2\")\n",
    "print(f.funksjon())\n",
    "# print(f.funksjon_punkt(10),\"\\n\")\n",
    "# print(f.derivert())\n",
    "# print(f.derivert_punkt(10))\n",
    "print(f.funksjon_nullpunkter())\n",
    "print(f.ekstremalpunkt())\n",
    "# print(f.funksjon_verditabell(-9, 9))\n",
    "# print(f.derivert_verditabell(-9, 9))\n",
    "f.funksjon_graf(-10, 5)"
   ]
  }
 ],
 "metadata": {
  "kernelspec": {
   "display_name": "Python 3.8.8 ('base')",
   "language": "python",
   "name": "python3"
  },
  "language_info": {
   "codemirror_mode": {
    "name": "ipython",
    "version": 3
   },
   "file_extension": ".py",
   "mimetype": "text/x-python",
   "name": "python",
   "nbconvert_exporter": "python",
   "pygments_lexer": "ipython3",
   "version": "3.8.8"
  },
  "orig_nbformat": 4,
  "vscode": {
   "interpreter": {
    "hash": "ad2bdc8ecc057115af97d19610ffacc2b4e99fae6737bb82f5d7fb13d2f2c186"
   }
  }
 },
 "nbformat": 4,
 "nbformat_minor": 2
}
