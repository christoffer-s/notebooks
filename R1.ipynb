{
  "cells": [
    {
      "cell_type": "markdown",
      "metadata": {
        "id": "OtKcM4EcfG8E"
      },
      "source": [
        "# R1\n",
        "\n",
        "Github repo: [`github.com/christoffer-s/notebooks`](https://github.com/christoffer-s/notebooks) \n",
        "\n",
        "\n",
        "<br>\n",
        "<br/>\n",
        "\n",
        "\n",
        "\n",
        "> Det eneste jeg savner er resten \n",
        ">\n",
        "> \\- Carmen"
      ]
    },
    {
      "cell_type": "markdown",
      "metadata": {
        "id": "tiIMf6LsfG8H"
      },
      "source": [
        "## Innholdsfortegnelse\n",
        "[Grenseverdier](#grenseverdier)\n",
        "\n",
        "[Gjennomsnitt](#gjennomsnitt)\n",
        "\n",
        "[Andregradsfunksjon](#andregradsfunksjon)"
      ]
    },
    {
      "cell_type": "markdown",
      "metadata": {
        "id": "dqzkVy66fG8I"
      },
      "source": [
        "## Grenseverdier\n",
        "\n",
        "---"
      ]
    },
    {
      "cell_type": "code",
      "execution_count": null,
      "metadata": {
        "id": "Mh-MwNkqfG8I",
        "outputId": "2b9e5a78-8f55-412d-9dec-fcde460e7991"
      },
      "outputs": [
        {
          "name": "stdout",
          "output_type": "stream",
          "text": [
            "Øvre grenseverdi: f(1.0) = -0.0\n",
            "Nedre grenseverdi: f(1.0) = 0.0\n"
          ]
        }
      ],
      "source": [
        "def f(x):\n",
        "    return x**3 +2*x**2 + 3*x - 6\n",
        "\n",
        "a = float(input(\"Skriv a verdien: \"))\n",
        "nøyaktighet = 0.00000001\n",
        "\n",
        "t = 0.1\n",
        "while t > nøyaktighet:\n",
        "    t /= 10\n",
        "\n",
        "print(f\"Øvre grenseverdi: f({round(a - t, 6)}) = {round(f(a - t), 6)}\")\n",
        "print(f\"Nedre grenseverdi: f({round(a + t, 6)}) = {round(f(a + t), 6)}\")"
      ]
    },
    {
      "cell_type": "code",
      "execution_count": null,
      "metadata": {
        "id": "xbbFldfTfG8K"
      },
      "outputs": [],
      "source": []
    },
    {
      "cell_type": "markdown",
      "metadata": {
        "id": "UZswpjcEfG8K"
      },
      "source": [
        "## Gjennomsnitt\n",
        "\n",
        "---"
      ]
    },
    {
      "cell_type": "code",
      "execution_count": 1,
      "metadata": {
        "id": "EVaKD1yUfG8L"
      },
      "outputs": [
        {
          "name": "stdout",
          "output_type": "stream",
          "text": [
            "5.0\n"
          ]
        }
      ],
      "source": [
        "def avg(x: list) -> float:\n",
        "    '''Input:      En liste med tall \\nOutput:     Et desimaltall \\nFunksjon:   Regner ut gjennomsnitt av listen'''\n",
        "    return round(sum(x) / len(x), 2)\n",
        "\n",
        "\n",
        "liste = [3, 4, 5, 6, 7]\n",
        "\n",
        "print(avg(liste))"
      ]
    },
    {
      "cell_type": "markdown",
      "metadata": {
        "id": "uSRBCC2tfG8L"
      },
      "source": [
        "## Andregradsfunksjon\n",
        "\n",
        "---"
      ]
    },
    {
      "cell_type": "code",
      "execution_count": 69,
      "metadata": {
        "id": "nUJv3DMvfG8M"
      },
      "outputs": [],
      "source": [
        "#   #   #   #   #   #   #   #   #   #   #   #   #\n",
        "#                                               #\n",
        "#    Legge til grafing av f'(x)                 #\n",
        "#                                               #\n",
        "#    Bedre UI for svar og grafing               #\n",
        "#                                               #\n",
        "#   #   #   #   #   #   #   #   #   #   #   #   #\n",
        "\n",
        "from matplotlib import pyplot as plt\n",
        "from numpy import linspace, sqrt\n",
        "\n",
        "class andregradsfunksjon():\n",
        "    ''' A class to analyse second degree polynomial functions. Expected form: f(x) = ax^2+bx+c'''  \n",
        "\n",
        "    def __init__(self, uttrykk):\n",
        "        \n",
        "        self.uttrykk = uttrykk\n",
        "            \n",
        "        self.navn, self.a, self.b, self.c = self.formatering()\n",
        "\n",
        "\n",
        "    def formatering(self):\n",
        "        uttrykk = self.uttrykk\n",
        "        index = 0\n",
        "        \n",
        "        for i, letter in enumerate(uttrykk):\n",
        "            if letter == \"=\":\n",
        "                navn = uttrykk[0:i - 1]\n",
        "                a_index = i + 2\n",
        "                \n",
        "            elif letter == \"+\" or letter == \"-\":\n",
        "                if not index and i != a_index:\n",
        "                    b_index = i\n",
        "                    index = 1\n",
        "\n",
        "                elif index:\n",
        "                    c_index = i\n",
        "                    break\n",
        "        \n",
        "        a = float(self.uttrykk[a_index:b_index - 3])\n",
        "        b = float(self.uttrykk[b_index:c_index - 1])\n",
        "        c = float(self.uttrykk[c_index:])\n",
        "    \n",
        "        print(a, b, c)\n",
        "\n",
        "        return navn, a, b, c\n",
        "    \n",
        "\n",
        "\n",
        "    def funksjon_uttrykk(self):\n",
        "        return self.uttrykk\n",
        "\n",
        "\n",
        "    def funksjon_punkt(self, x):\n",
        "        return self.a*x**2 + self.b*x + self.c\n",
        "\n",
        "\n",
        "    def funksjon_nullpunkter(self):\n",
        "        a = self.a\n",
        "        b = self.b\n",
        "        c = self.c\n",
        "\n",
        "        if (b**2) - (4*a*c) >= 0:\n",
        "            rot = sqrt((b**2) - (4*a*c))\n",
        "            \n",
        "            x1 = (-b - rot) / (2*a)\n",
        "            x2 = (-b + rot) / (2*a)\n",
        "\n",
        "        else:\n",
        "            x1 = None\n",
        "            x2 = None\n",
        "\n",
        "        return x1, x2\n",
        "\n",
        "\n",
        "    def ekstremalpunkt(self):\n",
        "        x = (-self.b) / (2 * self.a)\n",
        "        return x, self.funksjon_punkt(x)\n",
        "\n",
        "\n",
        "    def derivert(self):\n",
        "        uttrykk = self.uttrykk\n",
        "        \n",
        "        for i, letter in enumerate(uttrykk):\n",
        "            if letter == \"(\":\n",
        "                temp_navn = uttrykk[0:i] + \"'\" + uttrykk[i:i + 3] \n",
        "                return f\"{temp_navn} = {2*self.a}x + {self.b}\"\n",
        "                \n",
        "        else:\n",
        "            return None\n",
        "\n",
        "\n",
        "    def derivert_punkt(self, x):\n",
        "        return (2 * self.a * x) + self.b\n",
        "\n",
        "    \n",
        "    def funksjon_graf(self, x_start, x_stopp):\n",
        "        x = linspace(x_start, x_stopp)\n",
        "        plt.grid()\n",
        "        plt.plot(x, self.funksjon_punkt(x), label = self.funksjon_uttrykk())\n",
        "        plt.legend()     \n",
        "        plt.show()\n",
        "\n",
        "\n"
      ]
    },
    {
      "cell_type": "code",
      "execution_count": 77,
      "metadata": {},
      "outputs": [
        {
          "name": "stdout",
          "output_type": "stream",
          "text": [
            "f(x) = 3x^2 + 2x - 20\n",
            "f'(x) = 6.0x + 2.0\n",
            "53.0\n",
            "20.0\n",
            "(None, None)\n",
            "(-0.3333333333333333, 19.666666666666668)\n"
          ]
        },
        {
          "data": {
            "image/png": "[encoded data removed]",
            "text/plain": [
              "<Figure size 432x288 with 1 Axes>"
            ]
          },
          "metadata": {
            "needs_background": "light"
          },
          "output_type": "display_data"
        }
      ],
      "source": [
        "f = andregradsfunksjon(\"f(x) = 3x^2+2x-20\")\n",
        "print(f.funksjon_uttrykk())\n",
        "print(f.derivert())\n",
        "print(f.funksjon_punkt(3))\n",
        "print(f.derivert_punkt(3))\n",
        "print(f.funksjon_nullpunkter())\n",
        "print(f.ekstremalpunkt())\n",
        "f.funksjon_graf(-2, 5)"
      ]
    },
    {
      "cell_type": "code",
      "execution_count": 16,
      "metadata": {},
      "outputs": [
        {
          "name": "stdout",
          "output_type": "stream",
          "text": [
            "20.0\n"
          ]
        }
      ],
      "source": [
        "nums = []\n",
        "while True:\n",
        "    try:\n",
        "        val = float(input(\"Skriv inn tall: \"))\n",
        "    \n",
        "        nums.append(val)\n",
        "    except:\n",
        "        avg = sum(nums) / len(nums)\n",
        "        break\n",
        "\n",
        "print(avg)"
      ]
    },
    {
      "cell_type": "code",
      "execution_count": 10,
      "metadata": {},
      "outputs": [
        {
          "name": "stdout",
          "output_type": "stream",
          "text": [
            "1\n",
            "2\n",
            "3\n",
            "4\n",
            "5\n",
            "6\n",
            "7\n",
            "8\n",
            "9\n"
          ]
        }
      ],
      "source": [
        "for i in range(1, 10):\n",
        "    print(i)"
      ]
    }
  ],
  "metadata": {
    "colab": {
      "provenance": []
    },
    "kernelspec": {
      "display_name": "Python 3.8.8 ('base')",
      "language": "python",
      "name": "python3"
    },
    "language_info": {
      "codemirror_mode": {
        "name": "ipython",
        "version": 3
      },
      "file_extension": ".py",
      "mimetype": "text/x-python",
      "name": "python",
      "nbconvert_exporter": "python",
      "pygments_lexer": "ipython3",
      "version": "3.8.8"
    },
    "orig_nbformat": 4,
    "vscode": {
      "interpreter": {
        "hash": "ad2bdc8ecc057115af97d19610ffacc2b4e99fae6737bb82f5d7fb13d2f2c186"
      }
    }
  },
  "nbformat": 4,
  "nbformat_minor": 0
}
