{
  "cells": [
    {
      "cell_type": "markdown",
      "metadata": {
        "id": "OtKcM4EcfG8E"
      },
      "source": [
        "# R1\n",
        "\n",
        "Github repo: [`github.com/christoffer-s/notebooks`](https://github.com/christoffer-s/notebooks) \n",
        "\n",
        "Branch: main\n",
        "\n",
        "<br>\n",
        "<br/>\n",
        "\n",
        "\n",
        "\n",
        "> Det eneste jeg savner er resten \n",
        ">\n",
        "> \\- Carmen\n",
        "\n",
        "---"
      ]
    },
    {
      "attachments": {},
      "cell_type": "markdown",
      "metadata": {
        "id": "tiIMf6LsfG8H"
      },
      "source": [
        "## Innholdsfortegnelse\n",
        "[Grenseverdier](#grenseverdier)\n",
        "\n",
        "[Gjennomsnitt](#gjennomsnitt)\n",
        "\n",
        "[Andregradsfunksjon](#andregradsfunksjon)\n",
        "\n",
        "[Polynomfunksjon](#derivasjon-av-polynomfunksjon)\n",
        "\n",
        "[2.305 Sinus R1](#oppgave-2305-sinus-r1)"
      ]
    },
    {
      "cell_type": "markdown",
      "metadata": {
        "id": "dqzkVy66fG8I"
      },
      "source": [
        "## Grenseverdier\n",
        "\n",
        "---"
      ]
    },
    {
      "cell_type": "code",
      "execution_count": null,
      "metadata": {
        "id": "Mh-MwNkqfG8I",
        "outputId": "2b9e5a78-8f55-412d-9dec-fcde460e7991"
      },
      "outputs": [],
      "source": [
        "def f(x):\n",
        "    return (x + 1) ** 2\n",
        "\n",
        "\n",
        "a = float(input(\"Skriv a verdien: \"))\n",
        "nøyaktighet = 0.00000001\n",
        "pres = 6\n",
        "\n",
        "print(f\"Øvre grenseverdi: f({round(a - nøyaktighet, pres)}) = {round(f(a - nøyaktighet), pres)}\")\n",
        "print(f\"Nedre grenseverdi: f({round(a + nøyaktighet, pres)}) = {round(f(a + nøyaktighet), pres)}\")"
      ]
    },
    {
      "cell_type": "code",
      "execution_count": null,
      "metadata": {
        "id": "xbbFldfTfG8K"
      },
      "outputs": [],
      "source": [
        "from numpy import log10\n",
        "\n",
        "def f(x):\n",
        "    return (2 * x**2 - 7*x +5) / (x - 1)\n",
        "\n",
        "a = float(input(\"Skriv a verdien: \"))\n",
        "\n",
        "nøyaktighet = 0.0000000001\n",
        "pres = int(abs(log10(nøyaktighet)) - 1)\n",
        "\n",
        "x_øvre, x_nedre = a + nøyaktighet, a - nøyaktighet\n",
        "y_øvre, y_nedre = round(f(x_øvre), pres), round(f(x_nedre), pres)\n",
        "\n",
        "if y_øvre == y_nedre:\n",
        "    print(f\"Grenseverdien for f({round(x_øvre, pres)}) = {y_øvre}\")\n",
        "\n",
        "else:\n",
        "    print(f\"Øvre grenseverdi: f({round(x_øvre, pres)}) = {y_øvre}\")\n",
        "    print(f\"Nedre grenseverdi: f({round(x_nedre, pres)}) = {y_nedre}\")"
      ]
    },
    {
      "cell_type": "markdown",
      "metadata": {
        "id": "UZswpjcEfG8K"
      },
      "source": [
        "## Gjennomsnitt\n",
        "\n",
        "---"
      ]
    },
    {
      "cell_type": "code",
      "execution_count": null,
      "metadata": {
        "id": "EVaKD1yUfG8L"
      },
      "outputs": [],
      "source": [
        "def avg(x, pres):\n",
        "    return round(sum(x) / len(x), pres)\n",
        "\n",
        "\n",
        "liste = [3, 4, 5, 6, 7, 2, 2, 2]\n",
        "\n",
        "avg(liste, 3)"
      ]
    },
    {
      "cell_type": "code",
      "execution_count": null,
      "metadata": {},
      "outputs": [],
      "source": [
        "pres = 3\n",
        "nums = []\n",
        "\n",
        "while True:\n",
        "    try:\n",
        "        val = input(f\"Tall som er i listen: {*nums,}\\nSkriv inn tall: \")\n",
        "        val = float(val)\n",
        "        nums.append(val)\n",
        "\n",
        "    except ValueError:\n",
        "        if val == \" \":\n",
        "            avg = round(sum(nums) / len(nums), pres)\n",
        "            break\n",
        "\n",
        "        else:\n",
        "            print(\"Skriv et tall eller mellomrom for å avslutte\")\n",
        "            continue\n",
        "\n",
        "    except Exception as e:\n",
        "        print(\"Error\", e)\n",
        "        avg = None\n",
        "        break\n",
        "\n",
        "print(f\"Gjennomsnittet av: {', '.join(str(x) for x in nums)} = {avg} \")"
      ]
    },
    {
      "cell_type": "markdown",
      "metadata": {
        "id": "uSRBCC2tfG8L"
      },
      "source": [
        "## Andregradsfunksjon\n",
        "\n",
        "---"
      ]
    },
    {
      "cell_type": "code",
      "execution_count": null,
      "metadata": {
        "id": "nUJv3DMvfG8M"
      },
      "outputs": [],
      "source": [
        "#   #   #   #   #   #   #   #   #   #   #   #   #\n",
        "#                                               #\n",
        "#    Legge til grafing av f'(x)                 #\n",
        "#                                               #\n",
        "#    Bedre UI for svar og grafing               #\n",
        "#                                               #\n",
        "#   #   #   #   #   #   #   #   #   #   #   #   #\n",
        "\n",
        "from matplotlib import pyplot as plt\n",
        "from numpy import linspace, sqrt\n",
        "\n",
        "\n",
        "class andregradsfunksjon():\n",
        "    ''' A class to analyse second degree polynomial functions. Expected form: f(x) = ax^2+bx+c'''  \n",
        "\n",
        "    def __init__(self, uttrykk):\n",
        "        self.uttrykk = uttrykk\n",
        "        self.navn, self.a, self.b, self.c = self.formatering()\n",
        "\n",
        "\n",
        "    def formatering(self):\n",
        "        uttrykk = self.uttrykk\n",
        "        index = 0\n",
        "        \n",
        "        for i, letter in enumerate(uttrykk):\n",
        "            if letter == \"=\":\n",
        "                navn = uttrykk[0:i - 1]\n",
        "                a_index = i + 2\n",
        "                \n",
        "            elif letter == \"+\" or letter == \"-\":\n",
        "                if not index and i != a_index:\n",
        "                    b_index = i\n",
        "                    index = 1\n",
        "\n",
        "                elif index:\n",
        "                    c_index = i\n",
        "                    break\n",
        "        \n",
        "        a = float(self.uttrykk[a_index:b_index - 3])\n",
        "        b = float(self.uttrykk[b_index:c_index - 1])\n",
        "        c = float(self.uttrykk[c_index:])\n",
        "        \n",
        "        return navn, a, b, c\n",
        "\n",
        "\n",
        "    def funksjon_uttrykk(self):\n",
        "        return self.uttrykk\n",
        "\n",
        "\n",
        "    def funksjon_punkt(self, x):\n",
        "        return self.a*x**2 + self.b*x + self.c\n",
        "\n",
        "\n",
        "    def funksjon_nullpunkter(self):\n",
        "        a = self.a\n",
        "        b = self.b\n",
        "        c = self.c\n",
        "\n",
        "        if (b**2) - (4*a*c) >= 0:\n",
        "            rot = sqrt((b**2) - (4*a*c))\n",
        "            \n",
        "            x1 = (-b - rot) / (2*a)\n",
        "            x2 = (-b + rot) / (2*a)\n",
        "\n",
        "        else:\n",
        "            x1 = None\n",
        "            x2 = None\n",
        "\n",
        "        return x1, x2\n",
        "\n",
        "\n",
        "    def ekstremalpunkt(self):\n",
        "        x = (-self.b) / (2 * self.a)\n",
        "        return x, self.funksjon_punkt(x)\n",
        "\n",
        "\n",
        "    def derivert(self):\n",
        "        uttrykk = self.uttrykk\n",
        "        \n",
        "        for i, letter in enumerate(uttrykk):\n",
        "            if letter == \"(\":\n",
        "                temp_navn = uttrykk[0:i] + \"'\" + uttrykk[i:i + 3] \n",
        "                return f\"{temp_navn} = {2*self.a}x + {self.b}\"\n",
        "                \n",
        "        else:\n",
        "            return None\n",
        "\n",
        "\n",
        "    def derivert_punkt(self, x):\n",
        "        return (2 * self.a * x) + self.b\n",
        "\n",
        "    \n",
        "    def funksjon_graf(self, x_start, x_stopp):\n",
        "        x = linspace(x_start, x_stopp)\n",
        "        plt.grid()\n",
        "        plt.plot(x, self.funksjon_punkt(x), label = self.funksjon_uttrykk())\n",
        "        plt.legend()     \n",
        "        plt.show()\n",
        "\n",
        "        "
      ]
    },
    {
      "cell_type": "code",
      "execution_count": null,
      "metadata": {},
      "outputs": [],
      "source": [
        "f = andregradsfunksjon(\"f(x) = 1x^2+4x+4\")\n",
        "print(f.funksjon_uttrykk())\n",
        "print(f.derivert())\n",
        "print(f.funksjon_punkt(3))\n",
        "print(f.derivert_punkt(3))\n",
        "print(f.funksjon_nullpunkter())\n",
        "print(f.ekstremalpunkt())\n",
        "f.funksjon_graf(-2, 5)"
      ]
    },
    {
      "cell_type": "code",
      "execution_count": null,
      "metadata": {},
      "outputs": [],
      "source": [
        "num = 25\n",
        "\n",
        "num1 = num ** 0.5\n",
        "num2 = num ** (1/3)\n",
        "\n",
        "if num1.is_integer():\n",
        "    print(\"tallet er et kvadrattall\")\n",
        "\n",
        "elif num2.is_integer():\n",
        "    print(\"tallet er et kubetall\")\n",
        "\n",
        "else:\n",
        "    print(\"tallet er ingen av delene\")\n"
      ]
    },
    {
      "cell_type": "markdown",
      "metadata": {},
      "source": [
        "## Derivasjon av polynomfunksjon\n",
        "\n",
        "---"
      ]
    },
    {
      "cell_type": "markdown",
      "metadata": {},
      "source": [
        "algoritmen $ : n\\cdot ax^{n-1}+p\\cdot bx^{p-1}+q\\cdot cx^{q-1}\\cdots$"
      ]
    },
    {
      "cell_type": "code",
      "execution_count": null,
      "metadata": {},
      "outputs": [],
      "source": [
        "# function must be ordered from highest to lowest grade.\n",
        "import re\n",
        "\n",
        "class poly():\n",
        "    def __init__(self, expression):\n",
        "        self.expression = expression # expected form f(x) = 2x^3-0x^2+3x-2\n",
        "        self.terms = self.abc()\n",
        "        self.delta_x = 0.000001\n",
        "        self.pers = 4\n",
        "    \n",
        "    \n",
        "    def abc(self):\n",
        "        function = self.expression\n",
        "        indexed = []\n",
        "\n",
        "        index = function.index(\"=\") + 2\n",
        "\n",
        "        string = function[index:]\n",
        "        stripped = re.split(r'([-+])', string)\n",
        "\n",
        "\n",
        "        if stripped[0] == \"\":\n",
        "            stripped.pop(0)\n",
        "            start = 0\n",
        "\n",
        "        else:\n",
        "            indexed.append(stripped[0])\n",
        "            start = 1\n",
        "\n",
        "\n",
        "        loops = len(stripped) // 2\n",
        "        for i in range(loops):\n",
        "            merged = stripped[-i * 2 - 2] + stripped[-i * 2 - 1]\n",
        "            indexed.insert(start, merged)\n",
        "\n",
        "        return indexed\n",
        "   \n",
        "        \n",
        "\n",
        "    def numerical(self, x):\n",
        "        terms = self.terms\n",
        "        counter = 0\n",
        "\n",
        "        for element in terms:\n",
        "            try:\n",
        "                index = element.index(\"x\")\n",
        "                a = float(element[:index])\n",
        "                \n",
        "                try:\n",
        "                    n = float(element[index + 2:])\n",
        "\n",
        "                except:\n",
        "                    n = 1\n",
        "             \n",
        "                counter += a * x**n\n",
        "            \n",
        "            except:\n",
        "                counter += float(element)\n",
        "    \n",
        "        return counter\n",
        "\n",
        "\n",
        "    def limit(self, x):\n",
        "        pass\n",
        "\n",
        "\n",
        "    def derivation_numerical(self, x):\n",
        "        return round((self.numerical(x + 0.000001) - self.numerical(x)) / 0.000001, 4) # bruk samme delta x som grenseverdi, ha var i __init__, evt class var\n",
        "\n",
        "\n",
        "    def derivation_symbolic(self):\n",
        "        terms = self.terms\n",
        "        symbolic = []\n",
        "\n",
        "        if \"x\" not in terms[-1]:\n",
        "            terms.pop(-1)\n",
        "\n",
        "        for element in terms:\n",
        "            index = element.index(\"x\")\n",
        "            a = float(element[:index])\n",
        "\n",
        "            if a != 0: # fjern når abc() er omskrevet\n",
        "                try:\n",
        "                    n = float(element[index + 2:])\n",
        "                    a = a*n\n",
        "                    symbolic.append(f\"{a*n}x^{n-1}\")\n",
        "\n",
        "                except:\n",
        "                    n = 1\n",
        "                    symbolic.append(str(a))\n",
        "        \n",
        "        return \" \".join(symbolic)\n",
        "\n",
        "\n",
        "\n",
        "\n",
        "\n",
        "f = poly(\"f(x) = -2x^3-0x^2+3x-2\")\n",
        "g = poly(\"g(x) = 2x\")\n",
        "print(f.terms)\n",
        "# print(f.numerical(1))\n",
        "# print(f.derivation_numerical(1))\n",
        "print(f.derivation_symbolic())\n"
      ]
    },
    {
      "cell_type": "code",
      "execution_count": null,
      "metadata": {},
      "outputs": [],
      "source": [
        "\n",
        "\n",
        "\n",
        "\n",
        "\n",
        "terms = ['-2x^3', '-0x^2', '+3x', '-2']\n",
        "symbolic = []\n",
        "\n",
        "if \"x\" not in terms[-1]:\n",
        "    terms.pop(-1)\n",
        "\n",
        "for element in terms:\n",
        "    index = element.index(\"x\")\n",
        "    a = float(element[:index])\n",
        "\n",
        "    if a != 0:\n",
        "        try:\n",
        "            n = float(element[index + 2:])\n",
        "            a = a*n\n",
        "            symbolic.append(f\"{a*n}x^{n-1}\")\n",
        "\n",
        "        except:\n",
        "            n = 1\n",
        "            symbolic.append(a)\n",
        "  \n",
        "\n",
        "    \n",
        "print(terms)\n",
        "print(symbolic)"
      ]
    },
    {
      "cell_type": "markdown",
      "metadata": {},
      "source": [
        "## Oppgave 2.305 Sinus R1\n",
        "---"
      ]
    },
    {
      "cell_type": "code",
      "execution_count": 1,
      "metadata": {},
      "outputs": [
        {
          "name": "stdout",
          "output_type": "stream",
          "text": [
            "lim  \u001b[4mf(x)\u001b[0m   =  \u001b[4m0\u001b[0m\n",
            "x->4 g(x)      0\n",
            "\n",
            "lim  \u001b[4mf'(x)\u001b[0m  =  \u001b[4m9.0\u001b[0m  =  9.0\n",
            "x->4 g'(x)     1.0\n"
          ]
        }
      ],
      "source": [
        "def f(x):\n",
        "    return x**2 + x - 20\n",
        "\n",
        "\n",
        "def g(x):\n",
        "    return x - 4\n",
        "\n",
        "\n",
        "# kan både derivere både f(x) og g(x) numerisk \n",
        "def num_deri(x, function):\n",
        "    a = 0.0000001\n",
        "    \n",
        "    if function == \"f\":    \n",
        "        return round((f(x + a) - f(x)) / a, 6)\n",
        "\n",
        "    elif function == \"g\":\n",
        "        return round((g(x + a) - g(x)) / a, 6)\n",
        "\n",
        "    else:\n",
        "        return \"error\"\n",
        "\n",
        "\n",
        "# for å få \"brøkstrek\"\n",
        "def brøk(txt):\n",
        "    return '\\x1B[4m' + str(txt) + '\\x1B[0m'\n",
        "\n",
        "\n",
        "x = 4                   # x verdi til funksjonenene \n",
        "length = len(str(x))    # brukes til formatering slik at ting får riktig avstand fra hverandre\n",
        "fpx = \"f\\'(x)\"          # kan ikke bruke backlash i f-string, må derfor ha en egen variabel for uttrykket\n",
        "\n",
        "# printer vanlig grenseverdi, kun printing ikke regning\n",
        "print(f\"lim{' ':{length}} {brøk('f(x)')}   =  {brøk(f(x))}\")\n",
        "print(f\"x->{x} g(x)      {g(x)}\\n\")\n",
        "\n",
        "# printer L'Hôpitals regel, renger det numerisk\n",
        "print(f\"lim{' ':{length}} {brøk(fpx)}  =  {brøk(num_deri(x, 'f'))}  =  {num_deri(x, 'f') / num_deri(x, 'g')}\")\n",
        "print(f\"x->{x} g'(x)     {num_deri(x, 'g')}\")"
      ]
    },
    {
      "cell_type": "code",
      "execution_count": 55,
      "metadata": {},
      "outputs": [
        {
          "name": "stderr",
          "output_type": "stream",
          "text": [
            "No artists with labels found to put in legend.  Note that artists whose label start with an underscore are ignored when legend() is called with no argument.\n"
          ]
        },
        {
          "name": "stdout",
          "output_type": "stream",
          "text": [
            "x     = -2\n",
            "f(x)  = -0.018315638888734186\n",
            "f'(x) = -0.037\n",
            "f'(x) = -0.037\n",
            "diff  = 0.000\n",
            "\n",
            "x     = -1\n",
            "f(x)  = -0.1353352832366127\n",
            "f'(x) = -0.271\n",
            "f'(x) = -0.271\n",
            "diff  = 0.000\n",
            "\n",
            "x     = 0\n",
            "f(x)  = -1.0\n",
            "f'(x) = -2.000\n",
            "f'(x) = -2.000\n",
            "diff  = 0.000\n",
            "\n",
            "x     = 1\n",
            "f(x)  = -7.3890560989306495\n",
            "f'(x) = -14.778\n",
            "f'(x) = -14.778\n",
            "diff  = 0.000\n",
            "\n",
            "x     = 2\n",
            "f(x)  = -54.59815003314423\n",
            "f'(x) = -109.196\n",
            "f'(x) = -109.196\n",
            "diff  = 0.000\n",
            "\n"
          ]
        },
        {
          "data": {
            "image/png": "[encoded data removed]",
            "text/plain": [
              "<Figure size 640x480 with 1 Axes>"
            ]
          },
          "metadata": {},
          "output_type": "display_data"
        }
      ],
      "source": [
        "from numpy import sqrt, linspace\n",
        "from matplotlib import pyplot as plt\n",
        "from math import e\n",
        "\n",
        "def f(x):\n",
        "    return -e**(2*x)\n",
        "\n",
        "def numerisk (f, x, delta_x):\n",
        "    return (f(x + delta_x) - f(x))/delta_x\n",
        "\n",
        "def analytisk (x):\n",
        "    return -2*e**(2*x)\n",
        "\n",
        "def funksjon_graf(x_start, x_stopp):\n",
        "    x = linspace(x_start, x_stopp)\n",
        "    plt.grid()\n",
        "    plt.plot(x, f(x))\n",
        "    plt.plot(x, analytisk(x))\n",
        "    plt.legend()     \n",
        "    plt.show()\n",
        "\n",
        "xstart = -2\n",
        "xslutt = 2\n",
        "\n",
        "xsteg = 1\n",
        "delta_x = 0.0000001\n",
        "\n",
        "x = xstart\n",
        "\n",
        "while x <= xslutt:\n",
        "    y1 = numerisk(f, x, delta_x)\n",
        "    y2 = analytisk(x)\n",
        "    differanse = abs(y1-y2)\n",
        "    \n",
        "    print(f\"x     = {x}\")\n",
        "    print(f\"f(x)  = {f(x)}\")\n",
        "    print(f\"f'(x) = {y1:.3f}\")\n",
        "    print(f\"f'(x) = {y2:.3f}\")\n",
        "    print(f\"diff  = {differanse:.3f}\\n\")\n",
        "    x += xsteg\n",
        "\n",
        "funksjon_graf(xstart, xslutt)"
      ]
    },
    {
      "cell_type": "code",
      "execution_count": 30,
      "metadata": {},
      "outputs": [
        {
          "name": "stderr",
          "output_type": "stream",
          "text": [
            "No artists with labels found to put in legend.  Note that artists whose label start with an underscore are ignored when legend() is called with no argument.\n"
          ]
        },
        {
          "data": {
            "image/png": "[encoded data removed]",
            "text/plain": [
              "<Figure size 640x480 with 1 Axes>"
            ]
          },
          "metadata": {},
          "output_type": "display_data"
        }
      ],
      "source": [
        "\n",
        "from numpy import linspace, sqrt\n",
        "\n",
        "def f(x):\n",
        "    return e**(2*x)\n",
        "\n",
        "x1 = 0\n",
        "x2 = 6\n",
        "\n",
        "\n",
        "\n",
        "funksjon_graf(x1, x2)\n"
      ]
    }
  ],
  "metadata": {
    "colab": {
      "provenance": []
    },
    "kernelspec": {
      "display_name": "Python 3",
      "language": "python",
      "name": "python3"
    },
    "language_info": {
      "codemirror_mode": {
        "name": "ipython",
        "version": 3
      },
      "file_extension": ".py",
      "mimetype": "text/x-python",
      "name": "python",
      "nbconvert_exporter": "python",
      "pygments_lexer": "ipython3",
      "version": "3.10.4"
    },
    "orig_nbformat": 4,
    "vscode": {
      "interpreter": {
        "hash": "3ad933181bd8a04b432d3370b9dc3b0662ad032c4dfaa4e4f1596c548f763858"
      }
    }
  },
  "nbformat": 4,
  "nbformat_minor": 0
}
