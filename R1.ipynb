{
 "cells": [
  {
   "cell_type": "code",
   "execution_count": null,
   "metadata": {},
   "outputs": [],
   "source": [
    "def resistor_serie(resistors):\n",
    "    rp_index = []\n",
    "    for index, r in enumerate(resistors):\n",
    "        if isinstance(r, list):\n",
    "            resistors[index] = sum(r)\n",
    "            rp_index.append(index)\n",
    "    \n",
    "    return resistors\n",
    "\n",
    "def resistor_parallel(resistors):\n",
    "    resistors = [r**-1 for r in resistors]\n",
    "    \n",
    "    return sum(resistors)**-1\n",
    "\n",
    "rp = [10, 10]\n",
    "rs = [10, 5]\n",
    "\n",
    "rs.append(resistor_parallel(rp))\n",
    "rtot = resistor_serie(rs)\n",
    "\n",
    "print(rtot)"
   ]
  },
  {
   "cell_type": "code",
   "execution_count": null,
   "metadata": {},
   "outputs": [],
   "source": [
    "[r2, [[r3, r4], [r5, r6], r9], [r7, r8, r10]]\n"
   ]
  },
  {
   "cell_type": "code",
   "execution_count": null,
   "metadata": {},
   "outputs": [],
   "source": [
    "resistors = [10, [2, [4, 2], [2, 6]], [5]]\n",
    "rp_index = []\n",
    "\n",
    "for index, r in enumerate(resistors):\n",
    "    if isinstance(r, list):\n",
    "        resistors[index] = sum(r)\n",
    "        rp_index.append(index)\n",
    "\n",
    "\n",
    "    \n",
    "print(resistors)\n",
    "print(rp_index)"
   ]
  },
  {
   "cell_type": "code",
   "execution_count": null,
   "metadata": {},
   "outputs": [],
   "source": [
    "def resistor_serie(r):\n",
    "    return sum(r)\n",
    "\n",
    "def resistor_parallel(resistors):\n",
    "    resistors = [r**-1 for r in resistors]\n",
    "    \n",
    "    return sum(resistors)**-1\n",
    "\n",
    "def is_parallel(resistors):\n",
    "    for index, r in enumerate(resistors):\n",
    "        if isinstance(r, list):\n",
    "            is_parallel(resistors[index])\n",
    "\n",
    "        else:   \n",
    "    \n"
   ]
  },
  {
   "cell_type": "code",
   "execution_count": null,
   "metadata": {},
   "outputs": [],
   "source": [
    "def avg(x: list) -> float:\n",
    "    '''Input:      En liste med tall \\nOutput:     Et desimaltall \\nFunksjon:   Regner ut gjennomsnitt av listen'''\n",
    "    return sum(x) / len(x)\n",
    "\n",
    "\n",
    "print(avg.__doc__)\n",
    "\n",
    "liste = [3, 4, 5, 6, 7]\n",
    "\n",
    "print(avg(liste))\n"
   ]
  },
  {
   "cell_type": "code",
   "execution_count": null,
   "metadata": {},
   "outputs": [],
   "source": []
  }
 ],
 "metadata": {
  "kernelspec": {
   "display_name": "Python 3.7.9 64-bit (microsoft store)",
   "language": "python",
   "name": "python3"
  },
  "language_info": {
   "codemirror_mode": {
    "name": "ipython",
    "version": 3
   },
   "file_extension": ".py",
   "mimetype": "text/x-python",
   "name": "python",
   "nbconvert_exporter": "python",
   "pygments_lexer": "ipython3",
   "version": "3.7.9"
  },
  "orig_nbformat": 4,
  "vscode": {
   "interpreter": {
    "hash": "5a7990da02126fd0a21b854c36d16f9cc97eec6cd3e2984f7647413bfb088cc0"
   }
  }
 },
 "nbformat": 4,
 "nbformat_minor": 2
}
