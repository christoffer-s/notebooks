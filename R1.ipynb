{
 "cells": [
  {
   "attachments": {},
   "cell_type": "markdown",
   "metadata": {
    "id": "OtKcM4EcfG8E"
   },
   "source": [
    "# R1\n",
    "\n",
    "Github repo: [`github.com/christoffer-s/notebooks`](https://github.com/christoffer-s/notebooks) \n",
    "\n",
    "Branch: main\n",
    "\n",
    "<br>\n",
    "<br/>\n",
    "\n",
    "\n",
    "\n",
    "> Det eneste jeg savner er resten \n",
    ">\n",
    "> \\- Carmen\n",
    "\n",
    "---"
   ]
  },
  {
   "attachments": {},
   "cell_type": "markdown",
   "metadata": {
    "id": "tiIMf6LsfG8H"
   },
   "source": [
    "## Innholdsfortegnelse\n",
    "[Grenseverdier](#grenseverdier)\n",
    "\n",
    "[Gjennomsnitt](#gjennomsnitt)\n",
    "\n",
    "[Andregradsfunksjon](#andregradsfunksjon)\n",
    "\n",
    "[Polynomfunksjon](#derivasjon-av-polynomfunksjon)\n",
    "\n",
    "[2.305 Sinus R1](#oppgave-2305-sinus-r1)\n",
    "\n",
    "---"
   ]
  },
  {
   "attachments": {},
   "cell_type": "markdown",
   "metadata": {
    "id": "dqzkVy66fG8I"
   },
   "source": [
    "## Grenseverdier"
   ]
  },
  {
   "cell_type": "code",
   "execution_count": null,
   "metadata": {
    "id": "Mh-MwNkqfG8I",
    "outputId": "2b9e5a78-8f55-412d-9dec-fcde460e7991"
   },
   "outputs": [],
   "source": [
    "def f(x):\n",
    "    return (x + 1) ** 2\n",
    "\n",
    "\n",
    "a = float(input(\"Skriv a verdien: \"))\n",
    "nøyaktighet = 0.00000001\n",
    "pres = 6\n",
    "\n",
    "print(f\"Øvre grenseverdi: f({round(a - nøyaktighet, pres)}) = {round(f(a - nøyaktighet), pres)}\")\n",
    "print(f\"Nedre grenseverdi: f({round(a + nøyaktighet, pres)}) = {round(f(a + nøyaktighet), pres)}\")"
   ]
  },
  {
   "cell_type": "code",
   "execution_count": 5,
   "metadata": {
    "id": "xbbFldfTfG8K"
   },
   "outputs": [
    {
     "name": "stdout",
     "output_type": "stream",
     "text": [
      "Funksjonen er kontinuerlig\n",
      "Grenseverdien for f(1.0) = -3.0\n"
     ]
    }
   ],
   "source": [
    "from numpy import log10\n",
    "\n",
    "# funksjon\n",
    "def f(x):\n",
    "    return (2 * x**2 - 7*x +5) / (x - 1)\n",
    "\n",
    "\n",
    "a = float(input(\"Skriv grenseverdi verdien: \"))     # input fra bruker som gjøres om til float (desimaltall)\n",
    "\n",
    "nøyaktighet = 0.0000000001                          # angir nøyaktigheten til tilnærmingsverdien\n",
    "pres = int(abs(log10(nøyaktighet)) - 1)             # round funksjonen oppgis i antall nuller eller log10() \n",
    "\n",
    "# setter opp variablene i et forsøk på å øke lesbarhet\n",
    "x_øvre, x_nedre = a + nøyaktighet, a - nøyaktighet\n",
    "y_øvre, y_nedre = round(f(x_øvre), pres), round(f(x_nedre), pres)\n",
    "\n",
    "# dersom funksjonen er kontinuerlig printes svaret kun en gang\n",
    "if y_øvre == y_nedre:\n",
    "    print(\"Funksjonen er kontinuerlig\")\n",
    "    print(f\"Grenseverdien for f({round(x_øvre, pres)}) = {y_øvre}\")\n",
    "\n",
    "else:\n",
    "    print(\"Funksjonen er diskontinuerlig\")\n",
    "    print(f\"Øvre grenseverdi: f({round(x_øvre, pres)}) = {y_øvre}\")\n",
    "    print(f\"Nedre grenseverdi: f({round(x_nedre, pres)}) = {y_nedre}\")"
   ]
  },
  {
   "cell_type": "code",
   "execution_count": 3,
   "metadata": {},
   "outputs": [
    {
     "name": "stdout",
     "output_type": "stream",
     "text": [
      "4.2\n"
     ]
    }
   ],
   "source": [
    "def integer(n):\n",
    "    if isinstance(n, list):\n",
    "        for i, num in enumerate(n):\n",
    "            try:\n",
    "                if float(num).is_integer():\n",
    "                    n[i] = int(float(num))\n",
    "                \n",
    "                else:\n",
    "                    n[i] = float(num)\n",
    "            \n",
    "            except:\n",
    "                continue\n",
    "        \n",
    "        return n\n",
    "\n",
    "\n",
    "    else:\n",
    "        try:\n",
    "            if float(n).is_integer():\n",
    "                return int(float(n))\n",
    "            \n",
    "            else:\n",
    "                return float(n)\n",
    "        except:\n",
    "            return n\n",
    "    \n",
    "\n",
    "tall = \"4.2\"\n",
    "print(integer(tall))"
   ]
  },
  {
   "cell_type": "code",
   "execution_count": null,
   "metadata": {},
   "outputs": [],
   "source": [
    "print(int(0.0))\n",
    "\n",
    "print(int(\"0\"))\n",
    "\n",
    "print(int(float(\"0.0\")))\n",
    "\n",
    "print(int(\"0.0\"))"
   ]
  },
  {
   "attachments": {},
   "cell_type": "markdown",
   "metadata": {
    "id": "UZswpjcEfG8K"
   },
   "source": [
    "## Gjennomsnitt\n",
    "\n",
    "---"
   ]
  },
  {
   "cell_type": "code",
   "execution_count": 4,
   "metadata": {
    "id": "EVaKD1yUfG8L"
   },
   "outputs": [
    {
     "data": {
      "text/plain": [
       "3.875"
      ]
     },
     "execution_count": 4,
     "metadata": {},
     "output_type": "execute_result"
    }
   ],
   "source": [
    "def avg(x, pres):\n",
    "    return round(sum(x) / len(x), pres)\n",
    "\n",
    "\n",
    "liste = [3, 4, 5, 6, 7, 2, 2, 2]\n",
    "\n",
    "avg(liste, 3)"
   ]
  },
  {
   "cell_type": "code",
   "execution_count": 3,
   "metadata": {},
   "outputs": [
    {
     "name": "stdout",
     "output_type": "stream",
     "text": [
      "Gjennomsnittet av: 4.0, 0.0 = 2.0 \n"
     ]
    }
   ],
   "source": [
    "pres = 3\n",
    "nums = []\n",
    "\n",
    "while True:\n",
    "    try:\n",
    "        val = input(f\"Tall som er i listen: {*nums,}\\nSkriv inn tall: \")\n",
    "        val = float(val)\n",
    "        nums.append(val)\n",
    "\n",
    "    except ValueError:\n",
    "        if val == \" \":\n",
    "            avg = round(sum(nums) / len(nums), pres)\n",
    "            break\n",
    "\n",
    "        else:\n",
    "            print(\"Skriv et tall eller mellomrom for å avslutte\")\n",
    "            continue\n",
    "\n",
    "    except Exception as e:\n",
    "        print(\"Error\", e)\n",
    "        avg = None\n",
    "        break\n",
    "\n",
    "print(f\"Gjennomsnittet av: {', '.join(str(x) for x in nums)} = {avg} \")"
   ]
  },
  {
   "attachments": {},
   "cell_type": "markdown",
   "metadata": {
    "id": "uSRBCC2tfG8L"
   },
   "source": [
    "## Andregradsfunksjon\n",
    "\n",
    "---"
   ]
  },
  {
   "cell_type": "code",
   "execution_count": 2,
   "metadata": {
    "id": "nUJv3DMvfG8M"
   },
   "outputs": [],
   "source": [
    "#   #   #   #   #   #   #   #   #   #   #   #   #\n",
    "#                                               #\n",
    "#    Legge til grafing av f'(x)                 #\n",
    "#                                               #\n",
    "#    Bedre UI for svar og grafing               #\n",
    "#                                               #\n",
    "#   #   #   #   #   #   #   #   #   #   #   #   #\n",
    "\n",
    "from matplotlib import pyplot as plt\n",
    "from numpy import linspace, sqrt\n",
    "\n",
    "\n",
    "class andregradsfunksjon():\n",
    "    ''' A class to analyse second degree polynomial functions. Expected form: f(x) = ax^2+bx+c'''  \n",
    "\n",
    "    def __init__(self, uttrykk):\n",
    "        self.uttrykk = uttrykk\n",
    "        self.navn, self.a, self.b, self.c = self.formatering()\n",
    "\n",
    "\n",
    "    def formatering(self):\n",
    "        uttrykk = self.uttrykk\n",
    "        index = 0\n",
    "        \n",
    "        for i, letter in enumerate(uttrykk):\n",
    "            if letter == \"=\":\n",
    "                navn = uttrykk[0:i - 1]\n",
    "                a_index = i + 2\n",
    "                \n",
    "            elif letter == \"+\" or letter == \"-\":\n",
    "                if not index and i != a_index:\n",
    "                    b_index = i\n",
    "                    index = 1\n",
    "\n",
    "                elif index:\n",
    "                    c_index = i\n",
    "                    break\n",
    "        \n",
    "        a = float(self.uttrykk[a_index:b_index - 3])\n",
    "        b = float(self.uttrykk[b_index:c_index - 1])\n",
    "        c = float(self.uttrykk[c_index:])\n",
    "        \n",
    "        return navn, a, b, c\n",
    "\n",
    "\n",
    "    def funksjon_uttrykk(self):\n",
    "        return self.uttrykk\n",
    "\n",
    "\n",
    "    def funksjon_punkt(self, x):\n",
    "        return self.a*x**2 + self.b*x + self.c\n",
    "\n",
    "\n",
    "    def funksjon_nullpunkter(self):\n",
    "        a = self.a\n",
    "        b = self.b\n",
    "        c = self.c\n",
    "\n",
    "        if (b**2) - (4*a*c) >= 0:\n",
    "            rot = sqrt((b**2) - (4*a*c))\n",
    "            \n",
    "            x1 = (-b - rot) / (2*a)\n",
    "            x2 = (-b + rot) / (2*a)\n",
    "\n",
    "        else:\n",
    "            x1 = None\n",
    "            x2 = None\n",
    "\n",
    "        return x1, x2\n",
    "\n",
    "\n",
    "    def ekstremalpunkt(self):\n",
    "        x = (-self.b) / (2 * self.a)\n",
    "        return x, self.funksjon_punkt(x)\n",
    "\n",
    "\n",
    "    def derivert(self):\n",
    "        uttrykk = self.uttrykk\n",
    "        \n",
    "        for i, letter in enumerate(uttrykk):\n",
    "            if letter == \"(\":\n",
    "                temp_navn = uttrykk[0:i] + \"'\" + uttrykk[i:i + 3] \n",
    "                return f\"{temp_navn} = {2*self.a}x + {self.b}\"\n",
    "                \n",
    "        else:\n",
    "            return None\n",
    "\n",
    "\n",
    "    def derivert_punkt(self, x):\n",
    "        return (2 * self.a * x) + self.b\n",
    "\n",
    "    \n",
    "    def funksjon_graf(self, x_start, x_stopp):\n",
    "        x = linspace(x_start, x_stopp)\n",
    "        plt.grid()\n",
    "        plt.plot(x, self.funksjon_punkt(x), label = self.funksjon_uttrykk())\n",
    "        plt.legend()     \n",
    "        plt.show()\n",
    "\n",
    "        "
   ]
  },
  {
   "cell_type": "code",
   "execution_count": 4,
   "metadata": {},
   "outputs": [
    {
     "name": "stdout",
     "output_type": "stream",
     "text": [
      "f(x) = 1x^2+0x+0\n",
      "f'(x) = 2.0x + 0.0\n",
      "9.0\n",
      "6.0\n",
      "(-0.0, 0.0)\n",
      "(-0.0, 0.0)\n"
     ]
    },
    {
     "data": {
      "image/png": "[encoded data removed]",
      "text/plain": [
       "<Figure size 432x288 with 1 Axes>"
      ]
     },
     "metadata": {
      "needs_background": "light"
     },
     "output_type": "display_data"
    }
   ],
   "source": [
    "f = andregradsfunksjon(\"f(x) = 1x^2+0x+0\")\n",
    "print(f.funksjon_uttrykk())\n",
    "print(f.derivert())\n",
    "print(f.funksjon_punkt(3))\n",
    "print(f.derivert_punkt(3))\n",
    "print(f.funksjon_nullpunkter())\n",
    "print(f.ekstremalpunkt())\n",
    "f.funksjon_graf(-2, 5)\n"
   ]
  },
  {
   "attachments": {},
   "cell_type": "markdown",
   "metadata": {},
   "source": [
    "## Derivasjon av polynomfunksjon\n",
    "\n",
    "---"
   ]
  },
  {
   "attachments": {},
   "cell_type": "markdown",
   "metadata": {},
   "source": [
    "algoritmen: $ n\\cdot ax^{n-1}+p\\cdot bx^{p-1}+q\\cdot cx^{q-1}\\cdots$"
   ]
  },
  {
   "cell_type": "code",
   "execution_count": 1,
   "metadata": {},
   "outputs": [
    {
     "name": "stdout",
     "output_type": "stream",
     "text": [
      "['x^2']\n"
     ]
    },
    {
     "ename": "ValueError",
     "evalue": "could not convert string to float: ''",
     "output_type": "error",
     "traceback": [
      "\u001b[1;31m---------------------------------------------------------------------------\u001b[0m",
      "\u001b[1;31mValueError\u001b[0m                                Traceback (most recent call last)",
      "\u001b[1;32m<ipython-input-1-410e42b309c6>\u001b[0m in \u001b[0;36m<module>\u001b[1;34m\u001b[0m\n\u001b[0;32m    100\u001b[0m \u001b[1;31m# print(f.numerical(1))\u001b[0m\u001b[1;33m\u001b[0m\u001b[1;33m\u001b[0m\u001b[1;33m\u001b[0m\u001b[0m\n\u001b[0;32m    101\u001b[0m \u001b[1;31m# print(f.derivation_numerical(1))\u001b[0m\u001b[1;33m\u001b[0m\u001b[1;33m\u001b[0m\u001b[1;33m\u001b[0m\u001b[0m\n\u001b[1;32m--> 102\u001b[1;33m \u001b[0mprint\u001b[0m\u001b[1;33m(\u001b[0m\u001b[0mf\u001b[0m\u001b[1;33m.\u001b[0m\u001b[0mderivation_symbolic\u001b[0m\u001b[1;33m(\u001b[0m\u001b[1;33m)\u001b[0m\u001b[1;33m)\u001b[0m\u001b[1;33m\u001b[0m\u001b[1;33m\u001b[0m\u001b[0m\n\u001b[0m",
      "\u001b[1;32m<ipython-input-1-410e42b309c6>\u001b[0m in \u001b[0;36mderivation_symbolic\u001b[1;34m(self)\u001b[0m\n\u001b[0;32m     78\u001b[0m         \u001b[1;32mfor\u001b[0m \u001b[0melement\u001b[0m \u001b[1;32min\u001b[0m \u001b[0mterms\u001b[0m\u001b[1;33m:\u001b[0m\u001b[1;33m\u001b[0m\u001b[1;33m\u001b[0m\u001b[0m\n\u001b[0;32m     79\u001b[0m             \u001b[0mindex\u001b[0m \u001b[1;33m=\u001b[0m \u001b[0melement\u001b[0m\u001b[1;33m.\u001b[0m\u001b[0mindex\u001b[0m\u001b[1;33m(\u001b[0m\u001b[1;34m\"x\"\u001b[0m\u001b[1;33m)\u001b[0m\u001b[1;33m\u001b[0m\u001b[1;33m\u001b[0m\u001b[0m\n\u001b[1;32m---> 80\u001b[1;33m             \u001b[0ma\u001b[0m \u001b[1;33m=\u001b[0m \u001b[0mfloat\u001b[0m\u001b[1;33m(\u001b[0m\u001b[0melement\u001b[0m\u001b[1;33m[\u001b[0m\u001b[1;33m:\u001b[0m\u001b[0mindex\u001b[0m\u001b[1;33m]\u001b[0m\u001b[1;33m)\u001b[0m\u001b[1;33m\u001b[0m\u001b[1;33m\u001b[0m\u001b[0m\n\u001b[0m\u001b[0;32m     81\u001b[0m \u001b[1;33m\u001b[0m\u001b[0m\n\u001b[0;32m     82\u001b[0m             \u001b[1;32mif\u001b[0m \u001b[0ma\u001b[0m \u001b[1;33m!=\u001b[0m \u001b[1;36m0\u001b[0m\u001b[1;33m:\u001b[0m \u001b[1;31m# fjern når abc() er omskrevet\u001b[0m\u001b[1;33m\u001b[0m\u001b[1;33m\u001b[0m\u001b[0m\n",
      "\u001b[1;31mValueError\u001b[0m: could not convert string to float: ''"
     ]
    }
   ],
   "source": [
    "# function must be ordered from highest to lowest grade.\n",
    "import re\n",
    "\n",
    "class poly():\n",
    "    def __init__(self, expression):\n",
    "        self.expression = expression # expected form f(x) = 2x^3-0x^2+3x-2\n",
    "        self.terms = self.abc()\n",
    "        self.delta_x = 0.000001\n",
    "        self.pers = 4\n",
    "    \n",
    "    \n",
    "    def abc(self):\n",
    "        function = self.expression\n",
    "        indexed = []\n",
    "\n",
    "        index = function.index(\"=\") + 2\n",
    "\n",
    "        string = function[index:]\n",
    "        stripped = re.split(r'([-+])', string)\n",
    "\n",
    "\n",
    "        if stripped[0] == \"\":\n",
    "            stripped.pop(0)\n",
    "            start = 0\n",
    "\n",
    "        else:\n",
    "            indexed.append(stripped[0])\n",
    "            start = 1\n",
    "\n",
    "\n",
    "        loops = len(stripped) // 2\n",
    "        for i in range(loops):\n",
    "            merged = stripped[-i * 2 - 2] + stripped[-i * 2 - 1]\n",
    "            indexed.insert(start, merged)\n",
    "\n",
    "        return indexed\n",
    "   \n",
    "        \n",
    "\n",
    "    def numerical(self, x):\n",
    "        terms = self.terms\n",
    "        counter = 0\n",
    "\n",
    "        for element in terms:\n",
    "            try:\n",
    "                index = element.index(\"x\")\n",
    "                a = float(element[:index])\n",
    "                \n",
    "                try:\n",
    "                    n = float(element[index + 2:])\n",
    "\n",
    "                except:\n",
    "                    n = 1\n",
    "             \n",
    "                counter += a * x**n\n",
    "            \n",
    "            except:\n",
    "                counter += float(element)\n",
    "    \n",
    "        return counter\n",
    "\n",
    "\n",
    "    def limit(self, x):\n",
    "        pass\n",
    "\n",
    "\n",
    "    def derivation_numerical(self, x):\n",
    "        return round((self.numerical(x + 0.000001) - self.numerical(x)) / 0.000001, 4) # bruk samme delta x som grenseverdi, ha var i __init__, evt class var\n",
    "\n",
    "\n",
    "    def derivation_symbolic(self):\n",
    "        terms = self.terms\n",
    "        symbolic = []\n",
    "\n",
    "        if \"x\" not in terms[-1]:\n",
    "            terms.pop(-1)\n",
    "\n",
    "        for element in terms:\n",
    "            index = element.index(\"x\")\n",
    "            a = float(element[:index])\n",
    "\n",
    "            if a != 0: # fjern når abc() er omskrevet\n",
    "                try:\n",
    "                    n = float(element[index + 2:])\n",
    "                    a = a*n\n",
    "                    symbolic.append(f\"{a*n}x^{n-1}\")\n",
    "\n",
    "                except:\n",
    "                    n = 1\n",
    "                    symbolic.append(str(a))\n",
    "        \n",
    "        return \" \".join(symbolic)\n",
    "\n",
    "\n",
    "\n",
    "\n",
    "\n",
    "f = poly(\"f(x) = x^2\")\n",
    "print(f.terms)\n",
    "# print(f.numerical(1))\n",
    "# print(f.derivation_numerical(1))\n",
    "print(f.derivation_symbolic())\n"
   ]
  },
  {
   "cell_type": "code",
   "execution_count": null,
   "metadata": {},
   "outputs": [],
   "source": [
    "terms = ['-2x^3', '-0x^2', '+3x', '-2']\n",
    "symbolic = []\n",
    "\n",
    "if \"x\" not in terms[-1]:\n",
    "    terms.pop(-1)\n",
    "\n",
    "for element in terms:\n",
    "    index = element.index(\"x\")\n",
    "    a = float(element[:index])\n",
    "\n",
    "    if a != 0:\n",
    "        try:\n",
    "            n = float(element[index + 2:])\n",
    "            a = a*n\n",
    "            symbolic.append(f\"{a*n}x^{n-1}\")\n",
    "\n",
    "        except:\n",
    "            n = 1\n",
    "            symbolic.append(a)\n",
    "  \n",
    "\n",
    "    \n",
    "print(terms)\n",
    "print(symbolic)"
   ]
  },
  {
   "attachments": {},
   "cell_type": "markdown",
   "metadata": {},
   "source": [
    "## Oppgave 2.305 Sinus R1\n",
    "---"
   ]
  },
  {
   "cell_type": "code",
   "execution_count": null,
   "metadata": {},
   "outputs": [],
   "source": [
    "def f(x):\n",
    "    return x**2 + x - 20\n",
    "\n",
    "\n",
    "def g(x):\n",
    "    return x - 4\n",
    "\n",
    "\n",
    "# kan både derivere både f(x) og g(x) numerisk \n",
    "def num_deri(x, f):\n",
    "    dx = 0.0000001\n",
    "    return round((f(x + dx) - f(x)) / dx, 5)\n",
    "\n",
    "\n",
    "# for å få \"brøkstrek\"\n",
    "def brøk(txt):\n",
    "    return '\\x1B[4m' + str(txt) + '\\x1B[0m'\n",
    "\n",
    "\n",
    "x = float(input(\"a: \"))     # x verdi til funksjonenene \n",
    "length = len(str(x))        # brukes til formatering slik at ting får riktig avstand fra hverandre\n",
    "fx = brøk(\"f\\'(x)\")         # kan ikke bruke backlash i f-string, må derfor ha en egen variabel for uttrykket\n",
    "\n",
    "# printer vanlig grenseverdi, kun printing ikke regning\n",
    "print(f\"lim{' ':{length}} {brøk('f(x)')}   =  {brøk(f(x))}\")\n",
    "print(f\"x->{x} g(x)      {g(x)}\\n\")\n",
    "\n",
    "# printer L'Hôpitals regel, renger det numerisk\n",
    "print(f\"lim{' ':{length}} {fx}  =  {brøk(num_deri(x, f))}  =  {num_deri(x, f) / num_deri(x, g)}\")\n",
    "print(f\"x->{x} g'(x)     {num_deri(x, g)}\")"
   ]
  },
  {
   "cell_type": "code",
   "execution_count": null,
   "metadata": {},
   "outputs": [],
   "source": [
    "from numpy import sqrt, linspace, e\n",
    "from matplotlib import pyplot as plt\n",
    "\n",
    "def f(x):\n",
    "    return -e**(2*x)\n",
    "\n",
    "def numerisk(f, x, delta_x):\n",
    "    return (f(x + delta_x) - f(x))/delta_x\n",
    "\n",
    "def analytisk(x):\n",
    "    return -2*e**(2*x)\n",
    "\n",
    "def funksjon_graf(x_start, x_stopp):\n",
    "    x = linspace(x_start, x_stopp)\n",
    "    plt.grid()\n",
    "    plt.plot(x, f(x))\n",
    "    plt.plot(x, analytisk(x))   \n",
    "    plt.show()\n",
    "\n",
    "xstart, xslutt = -2, 2\n",
    "x = xstart\n",
    "\n",
    "xsteg = 1\n",
    "delta_x = 0.00000000001\n",
    "\n",
    "while x <= xslutt:\n",
    "    y1 = numerisk(f, x, delta_x)\n",
    "    y2 = analytisk(x)\n",
    "    differanse = abs(y1-y2)\n",
    "    \n",
    "    print(f\"x     = {x}\")\n",
    "    print(f\"f(x)  = {f(x)}\")\n",
    "    print(f\"f'(x) = {y1:.3f}\")\n",
    "    print(f\"f'(x) = {y2:.3f}\")\n",
    "    print(f\"diff  = {differanse:.3f}\\n\")\n",
    "    x += xsteg\n",
    "\n",
    "funksjon_graf(xstart, xslutt)"
   ]
  },
  {
   "cell_type": "code",
   "execution_count": 1,
   "metadata": {},
   "outputs": [
    {
     "name": "stderr",
     "output_type": "stream",
     "text": [
      "/home/codespace/.local/lib/python3.10/site-packages/pandas/core/arraylike.py:396: RuntimeWarning: overflow encountered in exp\n",
      "  result = getattr(ufunc, method)(*inputs, **kwargs)\n"
     ]
    },
    {
     "data": {
      "text/plain": [
       "[<matplotlib.lines.Line2D at 0x7f94e9fd6050>]"
      ]
     },
     "execution_count": 1,
     "metadata": {},
     "output_type": "execute_result"
    },
    {
     "data": {
      "image/png": "[encoded data removed]",
      "text/plain": [
       "<Figure size 640x480 with 1 Axes>"
      ]
     },
     "metadata": {},
     "output_type": "display_data"
    }
   ],
   "source": [
    "from matplotlib import pyplot as plt\n",
    "import pandas as pd\n",
    "import numpy as np\n",
    "from scipy.optimize import curve_fit\n",
    "\n",
    "\n",
    "df = pd.read_csv(\"co2.csv\", usecols=[\"year\", \"deseasonalized\"], index_col=False)\n",
    "år = df.loc[:,'year']\n",
    "utslipp = df.loc[:,'deseasonalized']\n",
    "\n",
    "\n",
    "popt, _ = curve_fit(lambda t, a, b, c: a * np.exp(b * t) + c, år, utslipp)\n",
    "a, b, c = popt\n",
    "\n",
    "y_fitted = a * np.exp(b * år) + c\n",
    "\n",
    "\n",
    "ax = plt.axes()\n",
    "ax.plot(år, y_fitted, 'k', label='Fitted curve')\n"
   ]
  },
  {
   "cell_type": "code",
   "execution_count": 32,
   "metadata": {},
   "outputs": [
    {
     "name": "stdout",
     "output_type": "stream",
     "text": [
      "0      1958\n",
      "1      1958\n",
      "2      1958\n",
      "3      1958\n",
      "4      1958\n",
      "       ... \n",
      "777    2022\n",
      "778    2023\n",
      "779    2023\n",
      "780    2023\n",
      "781    2023\n",
      "Name: year, Length: 782, dtype: int64\n",
      "0      314.43\n",
      "1      315.16\n",
      "2      314.71\n",
      "3      315.14\n",
      "4      315.18\n",
      "        ...  \n",
      "777    419.66\n",
      "778    419.12\n",
      "779    419.46\n",
      "780    419.53\n",
      "781    420.59\n",
      "Name: deseasonalized, Length: 782, dtype: float64\n",
      "[[nan nan nan]\n",
      " [nan nan nan]\n",
      " [nan nan nan]]\n"
     ]
    },
    {
     "name": "stderr",
     "output_type": "stream",
     "text": [
      "/home/codespace/.local/lib/python3.10/site-packages/pandas/core/arraylike.py:396: RuntimeWarning: overflow encountered in exp\n",
      "  result = getattr(ufunc, method)(*inputs, **kwargs)\n"
     ]
    }
   ],
   "source": [
    "from matplotlib import pyplot as plt\n",
    "import pandas as pd\n",
    "import numpy as np\n",
    "from scipy.optimize import curve_fit\n",
    "\n",
    "def exp_test(x, a, b, c):\n",
    "    return a * np.exp(b * x) + c\n",
    "\n",
    "df = pd.read_csv(\"co2.csv\", usecols=[\"year\", \"deseasonalized\"], index_col=False)\n",
    "år = df[\"year\"]\n",
    "utslipp = df[\"deseasonalized\"]\n",
    "\n",
    "\n",
    "\n",
    "\n"
   ]
  },
  {
   "cell_type": "code",
   "execution_count": null,
   "metadata": {},
   "outputs": [],
   "source": [
    "from math import sqrt\n",
    "\n",
    "print(\"skriv punktet: x,y\")\n",
    "xp, yp = input(\"punkt: \").split(\",\")\n",
    "xs, ys = input(\"sentrum: \").split(\",\")\n",
    "r = float(input(\"radius: \"))\n",
    "\n",
    "p = [float(xp), float(yp)]\n",
    "s = [float(xs), float(ys)]\n",
    "\n",
    "def sirkel(p, r):\n",
    "    h = sqrt((p[0] - s[0])**2 + (p[1] - s[1])**2)\n",
    "\n",
    "\n",
    "    if h == r:\n",
    "        return \"punktet er på sirklen\"\n",
    "\n",
    "    elif h < r:\n",
    "        return \"punktet er i sirklen\"\n",
    "\n",
    "    elif h > r:\n",
    "        return \"punktet er utenfor sirklen\"\n",
    "\n",
    "    else:\n",
    "        return \"error\"\n",
    "\n",
    "sirkel(p, r)"
   ]
  },
  {
   "cell_type": "code",
   "execution_count": null,
   "metadata": {},
   "outputs": [],
   "source": [
    "from math import sqrt\n",
    "\n",
    "a = [float(kor) for kor in input(\"A: \").split(\",\")]\n",
    "b = [float(kor) for kor in input(\"B: \").split(\",\")]\n",
    "c = [float(kor) for kor in input(\"C: \").split(\",\")]\n",
    "\n",
    "AB = sqrt((b[0] - a[0])**2 + (b[1] - a[1])**2)\n",
    "AC = sqrt((c[0] - a[0])**2 + (c[1] - a[1])**2)\n",
    "BC = sqrt((c[0] - b[0])**2 + (c[1] - b[1])**2)\n",
    "\n",
    "if sqrt(AB**2 + AC**2) == BC:\n",
    "    print(\"den er rettvinklet\")\n",
    "\n",
    "elif sqrt(AB**2 + BC**2) == AC:\n",
    "    print(\"den er rettvinklet\")\n",
    "\n",
    "elif sqrt(BC**2 + AC**2) == AB:\n",
    "    print(\"den er rettvinklet\")\n",
    "\n",
    "else:\n",
    "    print(\"u poop\")"
   ]
  },
  {
   "cell_type": "code",
   "execution_count": null,
   "metadata": {},
   "outputs": [],
   "source": [
    "# vektor regning\n",
    "from math import sqrt\n",
    "\n",
    "x,y = float(input(\"X: \")), float(input(\"Y: \"))\n",
    "\n",
    "a = [x, y]\n",
    "\n",
    "length = sqrt(abs(a[0])**2 + abs(a[1])**2)\n",
    "\n",
    "print(length)"
   ]
  },
  {
   "cell_type": "code",
   "execution_count": null,
   "metadata": {},
   "outputs": [],
   "source": [
    "def f(x):\n",
    "    return 3*x**2 - 5*x - 4\n",
    "\n",
    "\n",
    "def derivert(x):\n",
    "    h = 0.01\n",
    "    return (f(x + h) - f(x)) / h\n",
    "\n",
    "print(derivert(1))\n",
    "print(round(derivert(1), 2))\n"
   ]
  },
  {
   "cell_type": "code",
   "execution_count": null,
   "metadata": {},
   "outputs": [],
   "source": [
    "def f(x):\n",
    "    return -4*x +3\n",
    "\n",
    "xstart = -6.0\n",
    "xstopp = 7.0\n",
    "\n",
    "x = xstart\n",
    "\n",
    "while x <= xstopp:\n",
    "    print(f\"x: {round(x, 2):{3}}   |   f(x): {round(f(x), 2)}\")\n",
    "    x += 0.1"
   ]
  },
  {
   "cell_type": "code",
   "execution_count": null,
   "metadata": {},
   "outputs": [],
   "source": []
  }
 ],
 "metadata": {
  "colab": {
   "provenance": []
  },
  "kernelspec": {
   "display_name": "Python 3.8.8 ('base')",
   "language": "python",
   "name": "python3"
  },
  "language_info": {
   "codemirror_mode": {
    "name": "ipython",
    "version": 3
   },
   "file_extension": ".py",
   "mimetype": "text/x-python",
   "name": "python",
   "nbconvert_exporter": "python",
   "pygments_lexer": "ipython3",
   "version": "3.8.8"
  },
  "vscode": {
   "interpreter": {
    "hash": "ad2bdc8ecc057115af97d19610ffacc2b4e99fae6737bb82f5d7fb13d2f2c186"
   }
  }
 },
 "nbformat": 4,
 "nbformat_minor": 4
}
