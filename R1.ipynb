{
 "cells": [
  {
   "cell_type": "markdown",
   "metadata": {},
   "source": [
    "# R1\n",
    "\n",
    "Github repo: [`github.com/christoffer-s/notebooks`](https://github.com/christoffer-s/notebooks) \n",
    "\n",
    "\n",
    "<br>\n",
    "<br/>\n",
    "\n",
    "\n",
    "\n",
    "> Det eneste jeg savner er resten \n",
    ">\n",
    "> \\- Carmen"
   ]
  },
  {
   "cell_type": "markdown",
   "metadata": {},
   "source": [
    "## Grenseverdier\n",
    "\n",
    "---"
   ]
  },
  {
   "cell_type": "code",
   "execution_count": 29,
   "metadata": {},
   "outputs": [
    {
     "name": "stdout",
     "output_type": "stream",
     "text": [
      "Øvre grenseverdi: f(-5.0) = 0.0\n",
      "Nedre grenseverdi: f(-5.0) = -0.0\n"
     ]
    }
   ],
   "source": [
    "def f(x):\n",
    "    return (x + 5) / (x - 3)\n",
    "\n",
    "a = float(input(\"Skriv a verdien: \"))\n",
    "nøyaktighet = 0.00000001\n",
    "\n",
    "t = 0.1\n",
    "while t > nøyaktighet:\n",
    "    t /= 10\n",
    "\n",
    "print(f\"Øvre grenseverdi: f({round(a - t, 6)}) = {round(f(a - t), 6)}\")\n",
    "print(f\"Nedre grenseverdi: f({round(a + t, 6)}) = {round(f(a + t), 6)}\")"
   ]
  },
  {
   "cell_type": "code",
   "execution_count": null,
   "metadata": {},
   "outputs": [],
   "source": []
  },
  {
   "cell_type": "markdown",
   "metadata": {},
   "source": [
    "## Gjennomsnitt\n",
    "\n",
    "---"
   ]
  },
  {
   "cell_type": "code",
   "execution_count": null,
   "metadata": {},
   "outputs": [],
   "source": [
    "def avg(x: list) -> float:\n",
    "    '''Input:      En liste med tall \\nOutput:     Et desimaltall \\nFunksjon:   Regner ut gjennomsnitt av listen'''\n",
    "    return sum(x) / len(x)\n",
    "\n",
    "\n",
    "liste = [3, 4, 5, 6, 7]\n",
    "\n",
    "print(avg(liste))"
   ]
  }
 ],
 "metadata": {
  "kernelspec": {
   "display_name": "Python 3.8.8 ('base')",
   "language": "python",
   "name": "python3"
  },
  "language_info": {
   "codemirror_mode": {
    "name": "ipython",
    "version": 3
   },
   "file_extension": ".py",
   "mimetype": "text/x-python",
   "name": "python",
   "nbconvert_exporter": "python",
   "pygments_lexer": "ipython3",
   "version": "3.8.8"
  },
  "orig_nbformat": 4,
  "vscode": {
   "interpreter": {
    "hash": "ad2bdc8ecc057115af97d19610ffacc2b4e99fae6737bb82f5d7fb13d2f2c186"
   }
  }
 },
 "nbformat": 4,
 "nbformat_minor": 2
}
