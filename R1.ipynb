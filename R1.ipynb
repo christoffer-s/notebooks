{
  "cells": [
    {
      "cell_type": "markdown",
      "metadata": {
        "id": "OtKcM4EcfG8E"
      },
      "source": [
        "# R1\n",
        "\n",
        "Github repo: [`github.com/christoffer-s/notebooks`](https://github.com/christoffer-s/notebooks) \n",
        "\n",
        "\n",
        "<br>\n",
        "<br/>\n",
        "\n",
        "\n",
        "\n",
        "> Det eneste jeg savner er resten \n",
        ">\n",
        "> \\- Carmen\n",
        "\n",
        "---"
      ]
    },
    {
      "cell_type": "markdown",
      "metadata": {
        "id": "tiIMf6LsfG8H"
      },
      "source": [
        "## Innholdsfortegnelse\n",
        "[Grenseverdier](#grenseverdier)\n",
        "\n",
        "[Gjennomsnitt](#gjennomsnitt)\n",
        "\n",
        "[Andregradsfunksjon](#andregradsfunksjon)"
      ]
    },
    {
      "cell_type": "markdown",
      "metadata": {
        "id": "dqzkVy66fG8I"
      },
      "source": [
        "## Grenseverdier\n",
        "\n",
        "---"
      ]
    },
    {
      "cell_type": "code",
      "execution_count": 6,
      "metadata": {
        "id": "Mh-MwNkqfG8I",
        "outputId": "2b9e5a78-8f55-412d-9dec-fcde460e7991"
      },
      "outputs": [
        {
          "name": "stdout",
          "output_type": "stream",
          "text": [
            "Øvre grenseverdi: f(6.0) = 8.0\n",
            "Nedre grenseverdi: f(6.0) = 8.0\n"
          ]
        }
      ],
      "source": [
        "def f(x):\n",
        "    return (x**2 - 4*x - 12) / (x - 6)\n",
        "\n",
        "a = float(input(\"Skriv a verdien: \"))\n",
        "nøyaktighet = 0.00000001\n",
        "pres = 6\n",
        "\n",
        "\n",
        "print(f\"Øvre grenseverdi: f({round(a - nøyaktighet, pres)}) = {round(f(a - nøyaktighet), pres)}\")\n",
        "print(f\"Nedre grenseverdi: f({round(a + nøyaktighet, pres)}) = {round(f(a + nøyaktighet), pres)}\")"
      ]
    },
    {
      "cell_type": "code",
      "execution_count": 3,
      "metadata": {
        "id": "xbbFldfTfG8K"
      },
      "outputs": [
        {
          "name": "stdout",
          "output_type": "stream",
          "text": [
            "Grenseverdien for f(6.0000000001) = 8.0\n"
          ]
        }
      ],
      "source": [
        "from numpy import log10\n",
        "\n",
        "def f(x):\n",
        "    return (x**2 - 4*x - 12) / (x - 6)\n",
        "\n",
        "a = float(input(\"Skriv a verdien: \"))\n",
        "\n",
        "nøyaktighet = 0.0000000001\n",
        "pres = int(abs(log10(nøyaktighet)) - 1)\n",
        "\n",
        "x_øvre, x_nedre = a + nøyaktighet, a - nøyaktighet\n",
        "y_øvre, y_nedre = round(f(x_øvre), pres), round(f(x_nedre), pres)\n",
        "\n",
        "if y_øvre == y_nedre:\n",
        "    print(f\"Grenseverdien for f({round(x_øvre, pres)}) = {y_øvre}\")\n",
        "\n",
        "else:\n",
        "    print(f\"Øvre grenseverdi: f({round(x_øvre, pres)}) = {y_øvre}\")\n",
        "    print(f\"Nedre grenseverdi: f({round(x_nedre, pres)}) = {y_nedre}\")"
      ]
    },
    {
      "cell_type": "markdown",
      "metadata": {
        "id": "UZswpjcEfG8K"
      },
      "source": [
        "## Gjennomsnitt\n",
        "\n",
        "---"
      ]
    },
    {
      "cell_type": "code",
      "execution_count": 14,
      "metadata": {
        "id": "EVaKD1yUfG8L"
      },
      "outputs": [
        {
          "data": {
            "text/plain": [
              "3.875"
            ]
          },
          "execution_count": 14,
          "metadata": {},
          "output_type": "execute_result"
        }
      ],
      "source": [
        "def avg(x, pres):\n",
        "    return round(sum(x) / len(x), pres)\n",
        "\n",
        "\n",
        "liste = [3, 4, 5, 6, 7, 2, 2, 2]\n",
        "\n",
        "avg(liste, 3)"
      ]
    },
    {
      "cell_type": "code",
      "execution_count": null,
      "metadata": {},
      "outputs": [
        {
          "name": "stdout",
          "output_type": "stream",
          "text": [
            "Skriv et tall eller mellomrom for å avslutte\n",
            "Gjennomsnittet av: 2.0, 3.0, 4.0 = 3.0 \n"
          ]
        }
      ],
      "source": [
        "pres = 3\n",
        "nums = []\n",
        "\n",
        "while True:\n",
        "    try:\n",
        "        val = input(f\"Tall som er i listen: {*nums,}\\nSkriv inn tall: \")\n",
        "        val = float(val)\n",
        "        nums.append(val)\n",
        "\n",
        "    except ValueError:\n",
        "        if val == \" \":\n",
        "            avg = round(sum(nums) / len(nums), pres)\n",
        "            break\n",
        "            \n",
        "        else:\n",
        "            print(\"Skriv et tall eller mellomrom for å avslutte\")\n",
        "            continue\n",
        "    \n",
        "    except Exception as e:\n",
        "        print(\"Error\", e)\n",
        "        avg = None\n",
        "        break\n",
        "\n",
        "print(f\"Gjennomsnittet av: {', '.join(str(x) for x in nums)} = {avg} \")"
      ]
    },
    {
      "cell_type": "markdown",
      "metadata": {
        "id": "uSRBCC2tfG8L"
      },
      "source": [
        "## Andregradsfunksjon\n",
        "\n",
        "---"
      ]
    },
    {
      "cell_type": "code",
      "execution_count": null,
      "metadata": {
        "id": "nUJv3DMvfG8M"
      },
      "outputs": [],
      "source": [
        "#   #   #   #   #   #   #   #   #   #   #   #   #\n",
        "#                                               #\n",
        "#    Legge til grafing av f'(x)                 #\n",
        "#                                               #\n",
        "#    Bedre UI for svar og grafing               #\n",
        "#                                               #\n",
        "#   #   #   #   #   #   #   #   #   #   #   #   #\n",
        "\n",
        "from matplotlib import pyplot as plt\n",
        "from numpy import linspace, sqrt\n",
        "\n",
        "class andregradsfunksjon():\n",
        "    ''' A class to analyse second degree polynomial functions. Expected form: f(x) = ax^2+bx+c'''  \n",
        "\n",
        "    def __init__(self, uttrykk):\n",
        "        \n",
        "        self.uttrykk = uttrykk\n",
        "            \n",
        "        self.navn, self.a, self.b, self.c = self.formatering()\n",
        "\n",
        "\n",
        "    def formatering(self):\n",
        "        uttrykk = self.uttrykk\n",
        "        index = 0\n",
        "        \n",
        "        for i, letter in enumerate(uttrykk):\n",
        "            if letter == \"=\":\n",
        "                navn = uttrykk[0:i - 1]\n",
        "                a_index = i + 2\n",
        "                \n",
        "            elif letter == \"+\" or letter == \"-\":\n",
        "                if not index and i != a_index:\n",
        "                    b_index = i\n",
        "                    index = 1\n",
        "\n",
        "                elif index:\n",
        "                    c_index = i\n",
        "                    break\n",
        "        \n",
        "        a = float(self.uttrykk[a_index:b_index - 3])\n",
        "        b = float(self.uttrykk[b_index:c_index - 1])\n",
        "        c = float(self.uttrykk[c_index:])\n",
        "    \n",
        "        print(a, b, c)\n",
        "\n",
        "        return navn, a, b, c\n",
        "    \n",
        "\n",
        "\n",
        "    def funksjon_uttrykk(self):\n",
        "        return self.uttrykk\n",
        "\n",
        "\n",
        "    def funksjon_punkt(self, x):\n",
        "        return self.a*x**2 + self.b*x + self.c\n",
        "\n",
        "\n",
        "    def funksjon_nullpunkter(self):\n",
        "        a = self.a\n",
        "        b = self.b\n",
        "        c = self.c\n",
        "\n",
        "        if (b**2) - (4*a*c) >= 0:\n",
        "            rot = sqrt((b**2) - (4*a*c))\n",
        "            \n",
        "            x1 = (-b - rot) / (2*a)\n",
        "            x2 = (-b + rot) / (2*a)\n",
        "\n",
        "        else:\n",
        "            x1 = None\n",
        "            x2 = None\n",
        "\n",
        "        return x1, x2\n",
        "\n",
        "\n",
        "    def ekstremalpunkt(self):\n",
        "        x = (-self.b) / (2 * self.a)\n",
        "        return x, self.funksjon_punkt(x)\n",
        "\n",
        "\n",
        "    def derivert(self):\n",
        "        uttrykk = self.uttrykk\n",
        "        \n",
        "        for i, letter in enumerate(uttrykk):\n",
        "            if letter == \"(\":\n",
        "                temp_navn = uttrykk[0:i] + \"'\" + uttrykk[i:i + 3] \n",
        "                return f\"{temp_navn} = {2*self.a}x + {self.b}\"\n",
        "                \n",
        "        else:\n",
        "            return None\n",
        "\n",
        "\n",
        "    def derivert_punkt(self, x):\n",
        "        return (2 * self.a * x) + self.b\n",
        "\n",
        "    \n",
        "    def funksjon_graf(self, x_start, x_stopp):\n",
        "        x = linspace(x_start, x_stopp)\n",
        "        plt.grid()\n",
        "        plt.plot(x, self.funksjon_punkt(x), label = self.funksjon_uttrykk())\n",
        "        plt.legend()     \n",
        "        plt.show()\n",
        "\n",
        "\n"
      ]
    },
    {
      "cell_type": "code",
      "execution_count": null,
      "metadata": {},
      "outputs": [],
      "source": [
        "f = andregradsfunksjon(\"f(x) = 3x^2+2x-20\")\n",
        "print(f.funksjon_uttrykk())\n",
        "print(f.derivert())\n",
        "print(f.funksjon_punkt(3))\n",
        "print(f.derivert_punkt(3))\n",
        "print(f.funksjon_nullpunkter())\n",
        "print(f.ekstremalpunkt())\n",
        "f.funksjon_graf(-2, 5)"
      ]
    },
    {
      "cell_type": "code",
      "execution_count": null,
      "metadata": {},
      "outputs": [],
      "source": [
        "num = # skrivet tallet her\n",
        "\n",
        "num1 = num ** 0.5\n",
        "num2 = num ** (1/3)\n",
        "\n",
        "if num1.is_integer():\n",
        "    print(\"tallet er et kvadrattall\")\n",
        "\n",
        "elif num2.is_integer():\n",
        "    print(\"tallet er et kubetall\")\n",
        "\n",
        "else:\n",
        "    print(\"tallet er ingen av delene\")\n"
      ]
    },
    {
      "cell_type": "code",
      "execution_count": null,
      "metadata": {},
      "outputs": [],
      "source": []
    }
  ],
  "metadata": {
    "colab": {
      "provenance": []
    },
    "kernelspec": {
      "display_name": "Python 3.9.6 64-bit",
      "language": "python",
      "name": "python3"
    },
    "language_info": {
      "codemirror_mode": {
        "name": "ipython",
        "version": 3
      },
      "file_extension": ".py",
      "mimetype": "text/x-python",
      "name": "python",
      "nbconvert_exporter": "python",
      "pygments_lexer": "ipython3",
      "version": "3.9.6"
    },
    "orig_nbformat": 4,
    "vscode": {
      "interpreter": {
        "hash": "8da000029986b40ed09494d3cc4674ee306c2b5ed4555131a35e4782b05758fb"
      }
    }
  },
  "nbformat": 4,
  "nbformat_minor": 0
}
