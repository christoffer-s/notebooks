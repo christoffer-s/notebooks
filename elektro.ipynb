{
 "cells": [
  {
   "cell_type": "code",
   "execution_count": null,
   "metadata": {},
   "outputs": [],
   "source": [
    "def resistor_serie(resistors):\n",
    "    rp_index = []\n",
    "    for index, r in enumerate(resistors):\n",
    "        if isinstance(r, list):\n",
    "            resistors[index] = sum(r)\n",
    "            rp_index.append(index)\n",
    "    \n",
    "    return resistors\n",
    "\n",
    "def resistor_parallel(resistors):\n",
    "    resistors = [r**-1 for r in resistors]\n",
    "    \n",
    "    return sum(resistors)**-1\n",
    "\n",
    "rp = [10, 10]\n",
    "rs = [10, 5]\n",
    "\n",
    "rs.append(resistor_parallel(rp))\n",
    "rtot = resistor_serie(rs)\n",
    "\n",
    "print(rtot)"
   ]
  },
  {
   "cell_type": "code",
   "execution_count": null,
   "metadata": {},
   "outputs": [],
   "source": [
    "[r2, [[r3, r4], [r5, r6], r9], [r7, r8, r10]]\n"
   ]
  },
  {
   "cell_type": "code",
   "execution_count": null,
   "metadata": {},
   "outputs": [],
   "source": [
    "resistors = [10, [2, [4, 2], [2, 6]], [5]]\n",
    "rp_index = []\n",
    "\n",
    "for index, r in enumerate(resistors):\n",
    "    if isinstance(r, list):\n",
    "        resistors[index] = sum(r)\n",
    "        rp_index.append(index)\n",
    "\n",
    "\n",
    "    \n",
    "print(resistors)\n",
    "print(rp_index)"
   ]
  },
  {
   "cell_type": "code",
   "execution_count": null,
   "metadata": {},
   "outputs": [],
   "source": [
    "def resistor_serie(r):\n",
    "    return sum(r)\n",
    "\n",
    "def resistor_parallel(resistors):\n",
    "    resistors = [r**-1 for r in resistors]\n",
    "    \n",
    "    return sum(resistors)**-1\n",
    "\n",
    "def is_parallel(resistors):\n",
    "    for index, r in enumerate(resistors):\n",
    "        if isinstance(r, list):\n",
    "            is_parallel(resistors[index])\n",
    "\n",
    "        else:   \n",
    "            pass\n"
   ]
  }
 ],
 "metadata": {
  "kernelspec": {
   "display_name": "Python 3.8.8 ('base')",
   "language": "python",
   "name": "python3"
  },
  "language_info": {
   "name": "python",
   "version": "3.8.8"
  },
  "orig_nbformat": 4,
  "vscode": {
   "interpreter": {
    "hash": "f5a22878b2ef1cdd31385be341f8228035624063ba6a6a29c8eb7ac3eb88531c"
   }
  }
 },
 "nbformat": 4,
 "nbformat_minor": 2
}
