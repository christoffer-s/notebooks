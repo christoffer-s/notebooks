{
 "cells": [
  {
   "cell_type": "code",
   "execution_count": null,
   "metadata": {},
   "outputs": [],
   "source": [
    "def resistor_serie(resistors):\n",
    "    rp_index = []\n",
    "    for index, r in enumerate(resistors):\n",
    "        if isinstance(r, list):\n",
    "            resistors[index] = sum(r)\n",
    "            rp_index.append(index)\n",
    "    \n",
    "    return resistors\n",
    "\n",
    "def resistor_parallel(resistors):\n",
    "    resistors = [r**-1 for r in resistors]\n",
    "    \n",
    "    return sum(resistors)**-1\n",
    "\n",
    "rp = [10, 10]\n",
    "rs = [10, 5]\n",
    "\n",
    "rs.append(resistor_parallel(rp))\n",
    "rtot = resistor_serie(rs)\n",
    "\n",
    "print(rtot)"
   ]
  },
  {
   "cell_type": "code",
   "execution_count": null,
   "metadata": {},
   "outputs": [],
   "source": [
    "[r2, [[r3, r4], [r5, r6], r9], [r7, r8, r10]]\n"
   ]
  },
  {
   "cell_type": "code",
   "execution_count": null,
   "metadata": {},
   "outputs": [],
   "source": [
    "resistors = [10, [2, [4, 2], [2, 6]], [5]]\n",
    "rp_index = []\n",
    "\n",
    "for index, r in enumerate(resistors):\n",
    "    if isinstance(r, list):\n",
    "        resistors[index] = sum(r)\n",
    "        rp_index.append(index)\n",
    "\n",
    "\n",
    "    \n",
    "print(resistors)\n",
    "print(rp_index)"
   ]
  },
  {
   "cell_type": "code",
   "execution_count": null,
   "metadata": {},
   "outputs": [],
   "source": [
    "def resistor_serie(r):\n",
    "    return sum(r)\n",
    "\n",
    "def resistor_parallel(resistors):\n",
    "    resistors = [r**-1 for r in resistors]\n",
    "    \n",
    "    return sum(resistors)**-1\n",
    "\n",
    "def is_parallel(resistors):\n",
    "    for index, r in enumerate(resistors):\n",
    "        if isinstance(r, list):\n",
    "            is_parallel(resistors[index])\n",
    "\n",
    "        else:   \n",
    "            pass\n"
   ]
  },
  {
   "cell_type": "code",
   "execution_count": null,
   "metadata": {},
   "outputs": [],
   "source": [
    "JHtMMEFmcGd4N0tAeDRQMGtAbHh9"
   ]
  }
 ],
 "metadata": {
  "kernelspec": {
   "display_name": "Python 3",
   "language": "python",
   "name": "python3"
  },
  "language_info": {
   "name": "python",
   "version": "3.10.4 (main, Nov 29 2022, 20:00:25) [GCC 9.4.0]"
  },
  "orig_nbformat": 4,
  "vscode": {
   "interpreter": {
    "hash": "3ad933181bd8a04b432d3370b9dc3b0662ad032c4dfaa4e4f1596c548f763858"
   }
  }
 },
 "nbformat": 4,
 "nbformat_minor": 2
}
