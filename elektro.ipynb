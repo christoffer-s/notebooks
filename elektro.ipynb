{
 "cells": [
  {
   "cell_type": "code",
   "execution_count": null,
   "metadata": {},
   "outputs": [],
   "source": [
    "def resistor_serie(resistors):\n",
    "    rp_index = []\n",
    "    for index, r in enumerate(resistors):\n",
    "        if isinstance(r, list):\n",
    "            resistors[index] = sum(r)\n",
    "            rp_index.append(index)\n",
    "    \n",
    "    return resistors\n",
    "\n",
    "def resistor_parallel(resistors):\n",
    "    resistors = [r**-1 for r in resistors]\n",
    "    \n",
    "    return sum(resistors)**-1\n",
    "\n",
    "rp = [10, 10]\n",
    "rs = [10, 5]\n",
    "\n",
    "rs.append(resistor_parallel(rp))\n",
    "rtot = resistor_serie(rs)\n",
    "\n",
    "print(rtot)"
   ]
  },
  {
   "cell_type": "code",
   "execution_count": null,
   "metadata": {},
   "outputs": [],
   "source": [
    "[r2, [[r3, r4], [r5, r6], r9], [r7, r8, r10]]\n"
   ]
  },
  {
   "cell_type": "code",
   "execution_count": null,
   "metadata": {},
   "outputs": [],
   "source": [
    "resistors = [10, [2, [4, 2], [2, 6]], [5]]\n",
    "rp_index = []\n",
    "\n",
    "for index, r in enumerate(resistors):\n",
    "    if isinstance(r, list):\n",
    "        resistors[index] = sum(r)\n",
    "        rp_index.append(index)\n",
    "\n",
    "\n",
    "    \n",
    "print(resistors)\n",
    "print(rp_index)"
   ]
  },
  {
   "cell_type": "code",
   "execution_count": null,
   "metadata": {},
   "outputs": [],
   "source": [
    "def resistor_serie(r):\n",
    "    return sum(r)\n",
    "\n",
    "def resistor_parallel(resistors):\n",
    "    resistors = [r**-1 for r in resistors]\n",
    "    \n",
    "    return sum(resistors)**-1\n",
    "\n",
    "def is_parallel(resistors):\n",
    "    for index, r in enumerate(resistors):\n",
    "        if isinstance(r, list):\n",
    "            is_parallel(resistors[index])\n",
    "\n",
    "        else:   \n",
    "            pass\n"
   ]
  },
  {
   "cell_type": "code",
   "execution_count": 7,
   "metadata": {},
   "outputs": [
    {
     "data": {
      "text/plain": [
       "0.5"
      ]
     },
     "execution_count": 7,
     "metadata": {},
     "output_type": "execute_result"
    }
   ],
   "source": [
    "\n",
    "\n",
    "\n",
    "\n",
    "def serie(r):\n",
    "    return sum(r)\n",
    "\n",
    "def parallel(r, index):\n",
    "    rp = 0\n",
    "    for resistor in r:\n",
    "        rp += resistor ** -1\n",
    "\n",
    "    return rp ** -1\n",
    "\n",
    "def identifyer(resistors):\n",
    "    rp_index = []\n",
    "    for i, r in enumerate(rresistors):\n",
    "        if isinstance(r, list):\n",
    "            if len(r[i]) > 1:\n",
    "                identifyer(r)\n",
    "            \n",
    "            else:\n",
    "                rp_index.append(i)  \n",
    "\n",
    "    if len(rp_index) > 2:\n",
    "        rp = parallel(resistors, index)\n",
    "\n",
    "parallel([2, 2, 2, 2])\n",
    "            "
   ]
  },
  {
   "cell_type": "code",
   "execution_count": 10,
   "metadata": {},
   "outputs": [
    {
     "name": "stdout",
     "output_type": "stream",
     "text": [
      "[[2]]\n"
     ]
    }
   ],
   "source": [
    "def ident(resistors):\n",
    "    rp = []\n",
    "    for index, resistor in enumerate(resistors):\n",
    "        if isinstance(resistor, list):\n",
    "            if len(resistor[index]) > 1:\n",
    "                pass\n",
    "\n",
    "            else:\n",
    "                rp.append(resistor)\n",
    "\n",
    "    return sum(resistors)           "
   ]
  },
  {
   "cell_type": "code",
   "execution_count": null,
   "metadata": {},
   "outputs": [],
   "source": [
    "def resistance(r: list):\n",
    "    return r\n",
    "\n",
    "x = [1, 2, 3]\n",
    "\n",
    "print(resistance(x))"
   ]
  }
 ],
 "metadata": {
  "kernelspec": {
   "display_name": "Python 3.10.10 64-bit (microsoft store)",
   "language": "python",
   "name": "python3"
  },
  "language_info": {
   "codemirror_mode": {
    "name": "ipython",
    "version": 3
   },
   "file_extension": ".py",
   "mimetype": "text/x-python",
   "name": "python",
   "nbconvert_exporter": "python",
   "pygments_lexer": "ipython3",
   "version": "3.10.11"
  },
  "orig_nbformat": 4,
  "vscode": {
   "interpreter": {
    "hash": "915e572a52e4a3d9d38c81c04c936ab4e11d77090e981a9ed292779688a65f5c"
   }
  }
 },
 "nbformat": 4,
 "nbformat_minor": 2
}
