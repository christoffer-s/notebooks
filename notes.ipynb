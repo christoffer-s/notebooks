{
 "cells": [
  {
   "cell_type": "markdown",
   "metadata": {},
   "source": [
    "# Notater\n"
   ]
  },
  {
   "cell_type": "markdown",
   "metadata": {},
   "source": [
    "##### Assign default value to function parameters if not specified"
   ]
  },
  {
   "cell_type": "code",
   "execution_count": null,
   "metadata": {},
   "outputs": [],
   "source": [
    "# assign default value to parameters if not specified\n",
    "def f(x = 0):\n",
    "    return x\n"
   ]
  },
  {
   "cell_type": "code",
   "execution_count": null,
   "metadata": {},
   "outputs": [],
   "source": [
    "# open file\n",
    "with open(file_path, mode=\"rw\", encoding=\"utf-8\") as f:\n",
    "    data = f.read()"
   ]
  },
  {
   "cell_type": "code",
   "execution_count": null,
   "metadata": {},
   "outputs": [],
   "source": [
    "# doc sting used for documentation \n",
    "def f(x):\n",
    "    '''takes a single value, returns said value, any datatype'''\n",
    "    return x\n",
    "    \n",
    "print(f.__doc__)"
   ]
  },
  {
   "cell_type": "code",
   "execution_count": null,
   "metadata": {},
   "outputs": [],
   "source": [
    "# annotation for the expected input and output datatypes, used for documentation\n",
    "def f(x: float) -> int:\n",
    "    return x\n",
    "\n",
    "print(f.__annotations__)"
   ]
  },
  {
   "cell_type": "code",
   "execution_count": null,
   "metadata": {},
   "outputs": [],
   "source": [
    "# filtering a list \n",
    "\n",
    "lst = [1, 2, 3, 4, 5]\n",
    "x = 3\n",
    "\n",
    "filtered_values = [value for value in lst if value != x]\n",
    "print(filtered_values)\n"
   ]
  },
  {
   "cell_type": "code",
   "execution_count": null,
   "metadata": {},
   "outputs": [],
   "source": [
    "# filtering a string\n",
    "\n",
    "filtered_string = \"\"\n",
    "string = \"hello\"\n",
    "x = \"e\"\n",
    "\n",
    "filtered_string = filtered_string.join([char for char in string if char != x])\n",
    "\n",
    "print(filtered_string)"
   ]
  },
  {
   "cell_type": "code",
   "execution_count": null,
   "metadata": {},
   "outputs": [],
   "source": [
    "# how to get both index and value\n",
    "\n",
    "string = \"hello\"\n",
    "\n",
    "for index, char in enumerate(string):\n",
    "    print(f\"letter = {char}  index = {index}\")\n"
   ]
  },
  {
   "cell_type": "code",
   "execution_count": 10,
   "metadata": {},
   "outputs": [
    {
     "name": "stdout",
     "output_type": "stream",
     "text": [
      "1\n",
      "9\n",
      "56789\n",
      "01234\n",
      "678\n"
     ]
    }
   ],
   "source": [
    "# How indexing on lists and strings work\n",
    "\n",
    "lst = [0, 1, 2, 3, 4, 5, 6, 7, 8, 9]\n",
    "str = \"0123456789\"\n",
    "\n",
    "data = str\n",
    "\n",
    "print(data[1])\n",
    "print(data[-1])\n",
    "print(data[5:])\n",
    "print(data[:5])\n",
    "print(data[-4:-1])"
   ]
  }
 ],
 "metadata": {
  "kernelspec": {
   "display_name": "Python 3.7.9 64-bit (microsoft store)",
   "language": "python",
   "name": "python3"
  },
  "language_info": {
   "codemirror_mode": {
    "name": "ipython",
    "version": 3
   },
   "file_extension": ".py",
   "mimetype": "text/x-python",
   "name": "python",
   "nbconvert_exporter": "python",
   "pygments_lexer": "ipython3",
   "version": "3.7.9"
  },
  "orig_nbformat": 4,
  "vscode": {
   "interpreter": {
    "hash": "5a7990da02126fd0a21b854c36d16f9cc97eec6cd3e2984f7647413bfb088cc0"
   }
  }
 },
 "nbformat": 4,
 "nbformat_minor": 2
}
