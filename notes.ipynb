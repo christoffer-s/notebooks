{
  "cells": [
    {
      "cell_type": "markdown",
      "metadata": {
        "id": "BJdxQ3_feg45"
      },
      "source": [
        "# Notater\n",
        "\n",
        "Github repo: [`github.com/christoffer-s/notebooks`](https://github.com/christoffer-s/notebooks)\n",
        "\n",
        "---"
      ]
    },
    {
      "cell_type": "markdown",
      "metadata": {
        "id": "BWtBQFxGeg48"
      },
      "source": [
        "### Documentation"
      ]
    },
    {
      "cell_type": "markdown",
      "metadata": {
        "id": "J1_90iW2eg49"
      },
      "source": [
        "##### Doc string"
      ]
    },
    {
      "cell_type": "code",
      "execution_count": null,
      "metadata": {
        "id": "rjupCU2Ieg49"
      },
      "outputs": [],
      "source": [
        "# doc sting used for documentation \n",
        "def f(x):\n",
        "    '''takes a single value, returns said value, any datatype'''\n",
        "    return x\n",
        "    \n",
        "print(f.__doc__)"
      ]
    },
    {
      "cell_type": "markdown",
      "metadata": {
        "id": "kd97XVSPeg4-"
      },
      "source": [
        "##### Annotation"
      ]
    },
    {
      "cell_type": "code",
      "execution_count": null,
      "metadata": {
        "id": "LUaPk1Hfeg4-"
      },
      "outputs": [],
      "source": [
        "# annotation for the expected input and output datatypes\n",
        "def f(x: float) -> int:\n",
        "    return x\n",
        "\n",
        "print(f.__annotations__)"
      ]
    },
    {
      "cell_type": "markdown",
      "metadata": {
        "id": "KdLQOWNPeg4-"
      },
      "source": [
        "### Filtering"
      ]
    },
    {
      "cell_type": "markdown",
      "metadata": {
        "id": "k8OKLJwWeg4_"
      },
      "source": [
        "##### Filtering a list"
      ]
    },
    {
      "cell_type": "code",
      "execution_count": null,
      "metadata": {
        "id": "a_0rVd-teg4_"
      },
      "outputs": [],
      "source": [
        "# filtering a list \n",
        "\n",
        "lst = [1, 2, 3, 4, 5]\n",
        "x = 3\n",
        "\n",
        "filtered_values = [value for value in lst if value != x]\n",
        "print(filtered_values)\n"
      ]
    },
    {
      "cell_type": "markdown",
      "metadata": {
        "id": "KFzNwGQZeg5A"
      },
      "source": [
        "##### Filtering a string"
      ]
    },
    {
      "cell_type": "code",
      "execution_count": null,
      "metadata": {
        "id": "pBROa4mneg5A"
      },
      "outputs": [],
      "source": [
        "# filtering a string\n",
        "\n",
        "filtered_string = \"\"\n",
        "string = \"hello\"\n",
        "x = \"e\"\n",
        "\n",
        "filtered_string = filtered_string.join([char for char in string if char != x])\n",
        "\n",
        "print(filtered_string)"
      ]
    },
    {
      "cell_type": "markdown",
      "metadata": {
        "id": "Mhy3aSqPeg5A"
      },
      "source": [
        "### File management"
      ]
    },
    {
      "cell_type": "markdown",
      "metadata": {
        "id": "F9su21q0eg5A"
      },
      "source": [
        "##### Open a file"
      ]
    },
    {
      "cell_type": "code",
      "execution_count": null,
      "metadata": {
        "id": "Z5Z7LS0qeg5B"
      },
      "outputs": [],
      "source": [
        "# open a file\n",
        "with open(file_path, mode=\"rw\", encoding=\"utf-8\") as f:\n",
        "    data = f.read()"
      ]
    },
    {
      "cell_type": "markdown",
      "metadata": {
        "id": "a47tPcGkeg5B"
      },
      "source": [
        "### Indexing"
      ]
    },
    {
      "cell_type": "markdown",
      "metadata": {
        "id": "i5kKSxOPeg5B"
      },
      "source": [
        "##### Index and value in a for loop"
      ]
    },
    {
      "cell_type": "code",
      "execution_count": null,
      "metadata": {
        "id": "biqFe1upeg5B"
      },
      "outputs": [],
      "source": [
        "# how to get both index and value in a for loop\n",
        "\n",
        "string = \"hello\"\n",
        "\n",
        "for index, char in enumerate(string):\n",
        "    print(f\"letter = {char}  index = {index}\")\n"
      ]
    },
    {
      "cell_type": "markdown",
      "metadata": {
        "id": "GNFXlp6peg5B"
      },
      "source": [
        "##### Indexing on lists and strings"
      ]
    },
    {
      "cell_type": "code",
      "execution_count": null,
      "metadata": {
        "id": "tL4uV5xseg5C"
      },
      "outputs": [],
      "source": [
        "# indexing on lists and strings\n",
        "\n",
        "lst = [0, 1, 2, 3, 4, 5, 6, 7, 8, 9]\n",
        "str = \"0123456789\"\n",
        "\n",
        "data = lst\n",
        "\n",
        "print(data[1])\n",
        "print(data[-1])\n",
        "print(data[5:])\n",
        "print(data[:5])\n",
        "print(data[-4:-1])\n",
        "print(len(data))"
      ]
    },
    {
      "cell_type": "markdown",
      "metadata": {
        "id": "qhYSXdd3eg5C"
      },
      "source": [
        "### Functions"
      ]
    },
    {
      "cell_type": "markdown",
      "metadata": {
        "id": "nMj0cGkUeg5C"
      },
      "source": [
        "##### Assign default value to function parameters"
      ]
    },
    {
      "cell_type": "code",
      "execution_count": null,
      "metadata": {
        "id": "SIUX7Ohheg5C"
      },
      "outputs": [],
      "source": [
        "# assign default value to parameters if not specified\n",
        "def f(x = 0):\n",
        "    return x\n"
      ]
    },
    {
      "cell_type": "code",
      "execution_count": null,
      "metadata": {
        "id": "v8MJzVaVeg5D",
        "outputId": "3683663d-9dfe-4138-f060-54ed5328b236"
      },
      "outputs": [
        {
          "name": "stdout",
          "output_type": "stream",
          "text": [
            "could not convert string to float: ''\n",
            "[2.0, 3.0]\n",
            "2.5\n"
          ]
        }
      ],
      "source": [
        "def avg(x):\n",
        "    return sum(x) / len(x)\n",
        "\n",
        "tall = []\n",
        "\n",
        "try:\n",
        "    while True:\n",
        "        num = float(input(\"Skriv et tall: \"))\n",
        "        tall.append(num)\n",
        "\n",
        "except ValueError:\n",
        "    print(tall)\n",
        "    print(avg(tall))\n",
        "\n",
        "except Exception:\n",
        "    pass"
      ]
    }
  ],
  "metadata": {
    "colab": {
      "provenance": []
    },
    "kernelspec": {
      "display_name": "Python 3.8.8 ('base')",
      "language": "python",
      "name": "python3"
    },
    "language_info": {
      "codemirror_mode": {
        "name": "ipython",
        "version": 3
      },
      "file_extension": ".py",
      "mimetype": "text/x-python",
      "name": "python",
      "nbconvert_exporter": "python",
      "pygments_lexer": "ipython3",
      "version": "3.8.8"
    },
    "orig_nbformat": 4,
    "vscode": {
      "interpreter": {
        "hash": "f5a22878b2ef1cdd31385be341f8228035624063ba6a6a29c8eb7ac3eb88531c"
      }
    }
  },
  "nbformat": 4,
  "nbformat_minor": 0
}
