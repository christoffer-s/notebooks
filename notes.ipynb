{
  "cells": [
    {
      "cell_type": "markdown",
      "metadata": {
        "id": "BJdxQ3_feg45"
      },
      "source": [
        "# Notater\n",
        "\n",
        "Github repo: [`github.com/christoffer-s/notebooks`](https://github.com/christoffer-s/notebooks)\n",
        "\n",
        "---"
      ]
    },
    {
      "cell_type": "markdown",
      "metadata": {
        "id": "BWtBQFxGeg48"
      },
      "source": [
        "### Documentation"
      ]
    },
    {
      "cell_type": "markdown",
      "metadata": {
        "id": "J1_90iW2eg49"
      },
      "source": [
        "##### Doc string"
      ]
    },
    {
      "cell_type": "code",
      "execution_count": null,
      "metadata": {
        "id": "rjupCU2Ieg49"
      },
      "outputs": [],
      "source": [
        "# doc sting used for documentation \n",
        "def f(x):\n",
        "    '''takes a single value, returns said value, any datatype'''\n",
        "    return x\n",
        "    \n",
        "print(f.__doc__)"
      ]
    },
    {
      "cell_type": "markdown",
      "metadata": {
        "id": "kd97XVSPeg4-"
      },
      "source": [
        "##### Annotation"
      ]
    },
    {
      "cell_type": "code",
      "execution_count": 1,
      "metadata": {
        "id": "LUaPk1Hfeg4-"
      },
      "outputs": [
        {
          "name": "stdout",
          "output_type": "stream",
          "text": [
            "{'x': <class 'float'>, 'return': <class 'int'>}\n"
          ]
        }
      ],
      "source": [
        "# annotation for the expected input and output datatypes\n",
        "def f(x: float) -> int:\n",
        "    return x\n",
        "\n",
        "print(f.__annotations__)"
      ]
    },
    {
      "cell_type": "markdown",
      "metadata": {
        "id": "KdLQOWNPeg4-"
      },
      "source": [
        "### Filtering"
      ]
    },
    {
      "cell_type": "markdown",
      "metadata": {
        "id": "k8OKLJwWeg4_"
      },
      "source": [
        "##### Filtering a list"
      ]
    },
    {
      "cell_type": "code",
      "execution_count": null,
      "metadata": {
        "id": "a_0rVd-teg4_"
      },
      "outputs": [],
      "source": [
        "# filtering a list \n",
        "\n",
        "lst = [1, 2, 3, 4, 5]\n",
        "x = 3\n",
        "\n",
        "filtered_values = [value for value in lst if value != x]\n",
        "print(filtered_values)\n"
      ]
    },
    {
      "cell_type": "markdown",
      "metadata": {
        "id": "KFzNwGQZeg5A"
      },
      "source": [
        "##### Filtering a string"
      ]
    },
    {
      "cell_type": "code",
      "execution_count": null,
      "metadata": {
        "id": "pBROa4mneg5A"
      },
      "outputs": [],
      "source": [
        "# filtering a string\n",
        "\n",
        "filtered_string = \"\"\n",
        "string = \"hello\"\n",
        "x = \"e\"\n",
        "\n",
        "filtered_string = filtered_string.join([char for char in string if char != x])\n",
        "\n",
        "print(filtered_string)"
      ]
    },
    {
      "cell_type": "markdown",
      "metadata": {
        "id": "Mhy3aSqPeg5A"
      },
      "source": [
        "### File management"
      ]
    },
    {
      "cell_type": "markdown",
      "metadata": {
        "id": "F9su21q0eg5A"
      },
      "source": [
        "##### Open a file"
      ]
    },
    {
      "cell_type": "code",
      "execution_count": null,
      "metadata": {
        "id": "Z5Z7LS0qeg5B"
      },
      "outputs": [],
      "source": [
        "# open a file\n",
        "with open(file_path, mode=\"rw\", encoding=\"utf-8\") as f:\n",
        "    data = f.read()"
      ]
    },
    {
      "cell_type": "markdown",
      "metadata": {
        "id": "a47tPcGkeg5B"
      },
      "source": [
        "### Indexing"
      ]
    },
    {
      "cell_type": "markdown",
      "metadata": {
        "id": "i5kKSxOPeg5B"
      },
      "source": [
        "##### Index and value in a for loop"
      ]
    },
    {
      "cell_type": "code",
      "execution_count": null,
      "metadata": {
        "id": "biqFe1upeg5B"
      },
      "outputs": [],
      "source": [
        "# how to get both index and value in a for loop\n",
        "\n",
        "string = \"hello\"\n",
        "\n",
        "for index, char in enumerate(string):\n",
        "    print(f\"letter = {char}  index = {index}\")\n"
      ]
    },
    {
      "cell_type": "markdown",
      "metadata": {
        "id": "GNFXlp6peg5B"
      },
      "source": [
        "##### Indexing on lists and strings"
      ]
    },
    {
      "cell_type": "code",
      "execution_count": 1,
      "metadata": {
        "id": "tL4uV5xseg5C"
      },
      "outputs": [
        {
          "name": "stdout",
          "output_type": "stream",
          "text": [
            "1\n",
            "9\n",
            "56789\n",
            "01234\n",
            "678\n",
            "10\n",
            "34567\n"
          ]
        }
      ],
      "source": [
        "# indexing on lists and strings\n",
        "\n",
        "lst = [0, 1, 2, 3, 4, 5, 6, 7, 8, 9]\n",
        "str = \"0123456789\"\n",
        "\n",
        "data = str\n",
        "\n",
        "print(data[1])\n",
        "print(data[-1])\n",
        "print(data[5:])\n",
        "print(data[:5])\n",
        "print(data[-4:-1])\n",
        "print(len(data))\n",
        "\n",
        "print(data[3:-2])"
      ]
    },
    {
      "cell_type": "markdown",
      "metadata": {
        "id": "qhYSXdd3eg5C"
      },
      "source": [
        "### Functions"
      ]
    },
    {
      "cell_type": "markdown",
      "metadata": {
        "id": "nMj0cGkUeg5C"
      },
      "source": [
        "##### Assign default value to function parameters"
      ]
    },
    {
      "cell_type": "code",
      "execution_count": null,
      "metadata": {
        "id": "SIUX7Ohheg5C"
      },
      "outputs": [],
      "source": [
        "# assign default value to parameters if not specified\n",
        "def f(x = 0):\n",
        "    return x\n"
      ]
    },
    {
      "cell_type": "code",
      "execution_count": null,
      "metadata": {
        "id": "v8MJzVaVeg5D",
        "outputId": "3683663d-9dfe-4138-f060-54ed5328b236"
      },
      "outputs": [],
      "source": [
        "def avg(x):\n",
        "    return sum(x) / len(x)\n",
        "\n",
        "tall = []\n",
        "\n",
        "while True:\n",
        "    try:\n",
        "        while True:\n",
        "            num = float(input(\"Skriv et tall: \"))\n",
        "            tall.append(num)\n",
        "\n",
        "    except ValueError:\n",
        "        if num == \" \":\n",
        "            print(avg(tall))\n",
        "            \n",
        "        else:\n",
        "            continue\n",
        "    \n",
        "    else:\n",
        "        print(\"Prøv på nytt\")"
      ]
    },
    {
      "cell_type": "markdown",
      "metadata": {},
      "source": [
        "### F-string"
      ]
    },
    {
      "cell_type": "markdown",
      "metadata": {},
      "source": [
        "##### Komma seperasjon"
      ]
    },
    {
      "cell_type": "code",
      "execution_count": 11,
      "metadata": {},
      "outputs": [
        {
          "name": "stdout",
          "output_type": "stream",
          "text": [
            "100,000,000\n"
          ]
        }
      ],
      "source": [
        "x = 100000000\n",
        "\n",
        "print(f\"{x:,}\")"
      ]
    },
    {
      "cell_type": "markdown",
      "metadata": {},
      "source": [
        "##### Verditabell"
      ]
    },
    {
      "cell_type": "code",
      "execution_count": 2,
      "metadata": {},
      "outputs": [
        {
          "name": "stdout",
          "output_type": "stream",
          "text": [
            "x:  9   |   f(x): 892\n",
            "x: 10   |   f(x): 1200\n"
          ]
        }
      ],
      "source": [
        "def f(x):\n",
        "    return x**3 + 2*x**2 - x + 10\n",
        "\n",
        "\n",
        "min_it = 9\n",
        "max_it = 11\n",
        "\n",
        "a = len(str(max_it))\n",
        "\n",
        "for i in range(min_it, max_it):\n",
        "    print(f\"x: {i:{a}}   |   f(x): {f(i)}\")"
      ]
    },
    {
      "cell_type": "markdown",
      "metadata": {},
      "source": [
        "### Graf"
      ]
    },
    {
      "cell_type": "code",
      "execution_count": 6,
      "metadata": {},
      "outputs": [
        {
          "data": {
            "text/plain": [
              "[<matplotlib.lines.Line2D at 0x21cc3340c40>]"
            ]
          },
          "execution_count": 6,
          "metadata": {},
          "output_type": "execute_result"
        },
        {
          "data": {
            "image/png": "[encoded data removed]",
            "text/plain": [
              "<Figure size 1800x1200 with 1 Axes>"
            ]
          },
          "metadata": {
            "needs_background": "light"
          },
          "output_type": "display_data"
        }
      ],
      "source": [
        "from matplotlib import rcParams, pyplot as plt\n",
        "import numpy as np\n",
        "\n",
        "rcParams['figure.dpi'] = 300    # oppløsning på graf\n",
        "\n",
        "def f(x):                       # funksjon\n",
        "    return x**2 + 2*x - 3\n",
        "\n",
        "x = np.linspace(0, 10)          # x verdier\n",
        "y = f(x)                        # y verdier\n",
        "\n",
        "plt.grid()\n",
        "plt.plot(x, y)"
      ]
    }
  ],
  "metadata": {
    "colab": {
      "provenance": []
    },
    "kernelspec": {
      "display_name": "Python 3.8.8 ('base')",
      "language": "python",
      "name": "python3"
    },
    "language_info": {
      "codemirror_mode": {
        "name": "ipython",
        "version": 3
      },
      "file_extension": ".py",
      "mimetype": "text/x-python",
      "name": "python",
      "nbconvert_exporter": "python",
      "pygments_lexer": "ipython3",
      "version": "3.8.8"
    },
    "orig_nbformat": 4,
    "vscode": {
      "interpreter": {
        "hash": "ad2bdc8ecc057115af97d19610ffacc2b4e99fae6737bb82f5d7fb13d2f2c186"
      }
    }
  },
  "nbformat": 4,
  "nbformat_minor": 0
}
