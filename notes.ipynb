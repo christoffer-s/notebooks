{
 "cells": [
  {
   "cell_type": "markdown",
   "metadata": {},
   "source": [
    "# Notater\n"
   ]
  },
  {
   "cell_type": "markdown",
   "metadata": {},
   "source": [
    "### Documentation"
   ]
  },
  {
   "cell_type": "markdown",
   "metadata": {},
   "source": [
    "##### Doc string"
   ]
  },
  {
   "cell_type": "code",
   "execution_count": null,
   "metadata": {},
   "outputs": [],
   "source": [
    "# doc sting used for documentation \n",
    "def f(x):\n",
    "    '''takes a single value, returns said value, any datatype'''\n",
    "    return x\n",
    "    \n",
    "print(f.__doc__)"
   ]
  },
  {
   "cell_type": "markdown",
   "metadata": {},
   "source": [
    "##### Annotation"
   ]
  },
  {
   "cell_type": "code",
   "execution_count": null,
   "metadata": {},
   "outputs": [],
   "source": [
    "# annotation for the expected input and output datatypes\n",
    "def f(x: float) -> int:\n",
    "    return x\n",
    "\n",
    "print(f.__annotations__)"
   ]
  },
  {
   "cell_type": "markdown",
   "metadata": {},
   "source": [
    "### Filtering"
   ]
  },
  {
   "cell_type": "markdown",
   "metadata": {},
   "source": [
    "##### Filtering a list"
   ]
  },
  {
   "cell_type": "code",
   "execution_count": 2,
   "metadata": {},
   "outputs": [
    {
     "name": "stdout",
     "output_type": "stream",
     "text": [
      "[1, 2, 4, 5]\n"
     ]
    }
   ],
   "source": [
    "# filtering a list \n",
    "\n",
    "lst = [1, 2, 3, 4, 5]\n",
    "x = 3\n",
    "\n",
    "filtered_values = [value for value in lst if value != x]\n",
    "print(filtered_values)\n"
   ]
  },
  {
   "cell_type": "markdown",
   "metadata": {},
   "source": [
    "##### Filtering a string"
   ]
  },
  {
   "cell_type": "code",
   "execution_count": 3,
   "metadata": {},
   "outputs": [
    {
     "name": "stdout",
     "output_type": "stream",
     "text": [
      "hllo\n"
     ]
    }
   ],
   "source": [
    "# filtering a string\n",
    "\n",
    "filtered_string = \"\"\n",
    "string = \"hello\"\n",
    "x = \"e\"\n",
    "\n",
    "filtered_string = filtered_string.join([char for char in string if char != x])\n",
    "\n",
    "print(filtered_string)"
   ]
  },
  {
   "cell_type": "markdown",
   "metadata": {},
   "source": [
    "### File management"
   ]
  },
  {
   "cell_type": "markdown",
   "metadata": {},
   "source": [
    "##### Open a file"
   ]
  },
  {
   "cell_type": "code",
   "execution_count": null,
   "metadata": {},
   "outputs": [],
   "source": [
    "# open a file\n",
    "with open(file_path, mode=\"rw\", encoding=\"utf-8\") as f:\n",
    "    data = f.read()"
   ]
  },
  {
   "cell_type": "markdown",
   "metadata": {},
   "source": [
    "### Indexing"
   ]
  },
  {
   "cell_type": "markdown",
   "metadata": {},
   "source": [
    "##### Index and value in a for loop"
   ]
  },
  {
   "cell_type": "code",
   "execution_count": 6,
   "metadata": {},
   "outputs": [
    {
     "name": "stdout",
     "output_type": "stream",
     "text": [
      "letter = h  index = 0\n",
      "letter = e  index = 1\n",
      "letter = l  index = 2\n",
      "letter = l  index = 3\n",
      "letter = o  index = 4\n"
     ]
    }
   ],
   "source": [
    "# how to get both index and value in a for loop\n",
    "\n",
    "string = \"hello\"\n",
    "\n",
    "for index, char in enumerate(string):\n",
    "    print(f\"letter = {char}  index = {index}\")\n"
   ]
  },
  {
   "cell_type": "markdown",
   "metadata": {},
   "source": [
    "##### Indexing on lists and strings"
   ]
  },
  {
   "cell_type": "code",
   "execution_count": 10,
   "metadata": {},
   "outputs": [
    {
     "name": "stdout",
     "output_type": "stream",
     "text": [
      "1\n",
      "9\n",
      "56789\n",
      "01234\n",
      "678\n"
     ]
    }
   ],
   "source": [
    "# indexing on lists and strings\n",
    "\n",
    "lst = [0, 1, 2, 3, 4, 5, 6, 7, 8, 9]\n",
    "str = \"0123456789\"\n",
    "\n",
    "data = str\n",
    "\n",
    "print(data[1])\n",
    "print(data[-1])\n",
    "print(data[5:])\n",
    "print(data[:5])\n",
    "print(data[-4:-1])"
   ]
  },
  {
   "cell_type": "markdown",
   "metadata": {},
   "source": [
    "### Functions"
   ]
  },
  {
   "cell_type": "markdown",
   "metadata": {},
   "source": [
    "##### Assign default value to function parameters"
   ]
  },
  {
   "cell_type": "code",
   "execution_count": 5,
   "metadata": {},
   "outputs": [],
   "source": [
    "# assign default value to parameters if not specified\n",
    "def f(x = 0):\n",
    "    return x\n"
   ]
  }
 ],
 "metadata": {
  "kernelspec": {
   "display_name": "Python 3.9.6 64-bit",
   "language": "python",
   "name": "python3"
  },
  "language_info": {
   "codemirror_mode": {
    "name": "ipython",
    "version": 3
   },
   "file_extension": ".py",
   "mimetype": "text/x-python",
   "name": "python",
   "nbconvert_exporter": "python",
   "pygments_lexer": "ipython3",
   "version": "3.9.6"
  },
  "orig_nbformat": 4,
  "vscode": {
   "interpreter": {
    "hash": "8da000029986b40ed09494d3cc4674ee306c2b5ed4555131a35e4782b05758fb"
   }
  }
 },
 "nbformat": 4,
 "nbformat_minor": 2
}
